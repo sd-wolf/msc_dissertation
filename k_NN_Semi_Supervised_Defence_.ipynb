{
  "nbformat": 4,
  "nbformat_minor": 0,
  "metadata": {
    "colab": {
      "name": "k-NN Semi-Supervised Defence .ipynb",
      "provenance": [],
      "collapsed_sections": [],
      "machine_shape": "hm"
    },
    "kernelspec": {
      "name": "python3",
      "display_name": "Python 3"
    },
    "language_info": {
      "name": "python"
    },
    "accelerator": "GPU"
  },
  "cells": [
    {
      "cell_type": "markdown",
      "source": [
        "# Poisoning of CICIDS-2017 dataset and detecting poisoning using KSSD"
      ],
      "metadata": {
        "id": "t4YiMLz9nqZT"
      }
    },
    {
      "cell_type": "markdown",
      "source": [
        "Load in processed and poisoned data into this playbook to test KSSD."
      ],
      "metadata": {
        "id": "I8YWRLFbydvR"
      }
    },
    {
      "cell_type": "markdown",
      "source": [
        "## Setup and import required modules"
      ],
      "metadata": {
        "id": "UyWjXBKGnzCi"
      }
    },
    {
      "cell_type": "code",
      "source": [
        "!pip3 install scikit-learn-intelex"
      ],
      "metadata": {
        "colab": {
          "base_uri": "https://localhost:8080/"
        },
        "id": "clDVUdW95c8T",
        "outputId": "aa1563fe-48f5-4569-eb8a-805069eb1e44"
      },
      "execution_count": null,
      "outputs": [
        {
          "output_type": "stream",
          "name": "stdout",
          "text": [
            "Requirement already satisfied: scikit-learn-intelex in /usr/local/lib/python3.7/dist-packages (2021.5.3)\n",
            "Requirement already satisfied: daal4py==2021.5.3 in /usr/local/lib/python3.7/dist-packages (from scikit-learn-intelex) (2021.5.3)\n",
            "Requirement already satisfied: scikit-learn>=0.22 in /usr/local/lib/python3.7/dist-packages (from scikit-learn-intelex) (1.0.2)\n",
            "Requirement already satisfied: numpy>=1.15 in /usr/local/lib/python3.7/dist-packages (from daal4py==2021.5.3->scikit-learn-intelex) (1.21.5)\n",
            "Requirement already satisfied: daal==2021.5.3 in /usr/local/lib/python3.7/dist-packages (from daal4py==2021.5.3->scikit-learn-intelex) (2021.5.3)\n",
            "Requirement already satisfied: tbb==2021.* in /usr/local/lib/python3.7/dist-packages (from daal==2021.5.3->daal4py==2021.5.3->scikit-learn-intelex) (2021.5.1)\n",
            "Requirement already satisfied: joblib>=0.11 in /usr/local/lib/python3.7/dist-packages (from scikit-learn>=0.22->scikit-learn-intelex) (1.1.0)\n",
            "Requirement already satisfied: threadpoolctl>=2.0.0 in /usr/local/lib/python3.7/dist-packages (from scikit-learn>=0.22->scikit-learn-intelex) (3.1.0)\n",
            "Requirement already satisfied: scipy>=1.1.0 in /usr/local/lib/python3.7/dist-packages (from scikit-learn>=0.22->scikit-learn-intelex) (1.4.1)\n"
          ]
        }
      ]
    },
    {
      "cell_type": "code",
      "source": [
        "from sklearnex import patch_sklearn\n",
        "patch_sklearn()"
      ],
      "metadata": {
        "colab": {
          "base_uri": "https://localhost:8080/"
        },
        "id": "z7hWBpsY5e4d",
        "outputId": "bf0864d6-4ec4-4950-8e5c-34a8b99ac73c"
      },
      "execution_count": null,
      "outputs": [
        {
          "output_type": "stream",
          "name": "stderr",
          "text": [
            "Intel(R) Extension for Scikit-learn* enabled (https://github.com/intel/scikit-learn-intelex)\n"
          ]
        }
      ]
    },
    {
      "cell_type": "code",
      "execution_count": null,
      "metadata": {
        "id": "YrO59q1XCUEj"
      },
      "outputs": [],
      "source": [
        "from __future__ import print_function\n",
        "from sklearn.feature_selection import SelectFromModel\n",
        "from sklearn.feature_selection import SelectKBest, f_regression\n",
        "from sklearn.model_selection import KFold\n",
        "from sklearn.model_selection import cross_val_score\n",
        "from sklearn.ensemble import RandomForestClassifier\n",
        "from sklearn.metrics import classification_report\n",
        "from sklearn.model_selection import train_test_split \n",
        "from sklearn.metrics import confusion_matrix\n",
        "from sklearn import model_selection\n",
        "from sklearn.feature_selection import RFE\n",
        "from sklearn.linear_model import LogisticRegression\n",
        "from sklearn.ensemble import ExtraTreesClassifier\n",
        "from sklearn.ensemble import RandomForestRegressor\n",
        "from scipy.sparse import csr_matrix, vstack, hstack\n",
        "from scipy.sparse import coo_matrix\n",
        "from keras.preprocessing.text import one_hot\n",
        "from sklearn import metrics\n",
        "from sklearn.metrics import silhouette_samples, silhouette_score\n",
        "from sklearn.semi_supervised import LabelPropagation\n",
        "from sklearn.semi_supervised import LabelSpreading\n",
        "#from sklearn.semi_supervised import label_propagation\n",
        "from sklearn.metrics import roc_auc_score\n",
        "from sklearn.metrics import f1_score\n",
        "from sklearn.cluster import KMeans\n",
        "import math\n",
        "#import keras\n",
        "from keras.models import Sequential\n",
        "from keras.layers import Dense, Dropout, Activation , Flatten\n",
        "from sklearn.metrics import log_loss\n",
        "# from keras.optimizers import SGD\n",
        "# from keras.layers.normalization import BatchNormalization\n",
        "# from keras.layers.convolutional import UpSampling2D\n",
        "# from keras.layers.convolutional import Conv2D, MaxPooling2D, MaxPooling1D\n",
        "# from keras.layers.embeddings import Embedding\n",
        "import tensorflow as tf\n",
        "import tensorflow_probability as tfp\n",
        "from tensorflow.keras.optimizers import SGD\n",
        "from tensorflow.keras.layers import BatchNormalization\n",
        "from tensorflow.keras.layers import UpSampling2D\n",
        "from tensorflow.keras.layers import Conv2D, MaxPooling2D, MaxPooling1D\n",
        "from tensorflow.keras.layers import Embedding\n",
        "from scipy import sparse\n",
        "import pandas as pd\n",
        "import numpy as np\n",
        "\n",
        "import seaborn as sns\n",
        "import matplotlib.pyplot as plt\n",
        "from sklearn.metrics import PrecisionRecallDisplay\n",
        "\n",
        "#import random\n",
        "import sklearn\n",
        "from sklearn.metrics.pairwise import manhattan_distances\n",
        "from keras.models import Model\n",
        "from keras.layers import  Conv1D, multiply, GlobalMaxPool1D, Input , Lambda\n",
        "import time\n",
        "import argparse\n",
        "#import math\n",
        "from numpy import *\n",
        "import os.path as osp\n",
        "import scipy.sparse as sp\n",
        "import pickle\n",
        "from sklearn.metrics import accuracy_score"
      ]
    },
    {
      "cell_type": "code",
      "source": [
        "from sklearn.metrics import precision_recall_curve\n",
        "def plot_conf_matrix(Y_val, Y_val_preds):\n",
        "    \"\"\"\n",
        "    Plots a nice looking confusion matrix using Seaborn's heatmap()\n",
        "    \"\"\"\n",
        "    sns.set(font_scale=1.5)\n",
        "    fig, ax = plt.subplots(figsize=(3,3))\n",
        "    ax = sns.heatmap(confusion_matrix(Y_val, Y_val_preds),\n",
        "                     annot=True,\n",
        "                     cbar=False,\n",
        "                     fmt='d')\n",
        "    plt.xlabel(\"Predicted Label\")\n",
        "    plt.ylabel(\"True Label\")"
      ],
      "metadata": {
        "id": "dDM9S0n4NicG"
      },
      "execution_count": null,
      "outputs": []
    },
    {
      "cell_type": "code",
      "source": [
        "def plot_conf_matrix_from_matrix(cm, title):\n",
        "    \"\"\"\n",
        "    Plots a nice looking confusion matrix using Seaborn's heatmap()\n",
        "    \"\"\"\n",
        "    sns.set(font_scale=1.5)\n",
        "    fig, ax = plt.subplots(figsize=(3,3))\n",
        "    ax = sns.heatmap(cm,\n",
        "                     annot=True,\n",
        "                     cbar=False,\n",
        "                     fmt='d')\n",
        "    plt.title(label=title)\n",
        "    plt.xlabel(\"Predicted Label\")\n",
        "    plt.ylabel(\"True Label\")"
      ],
      "metadata": {
        "id": "afq4T662NiXN"
      },
      "execution_count": null,
      "outputs": []
    },
    {
      "cell_type": "markdown",
      "source": [
        "Load Data"
      ],
      "metadata": {
        "id": "zX_uXhNFE1C-"
      }
    },
    {
      "cell_type": "code",
      "source": [
        "import pandas as pd\n",
        "# input_data = pd.read_csv('/content/drive/MyDrive/CICIDS/converted_processed_1_percent_sample.csv', index_col='Unnamed: 0')\n",
        "# input_data = pd.read_csv('/content/drive/MyDrive/CICIDS/converted_processed_5_percent_sample.csv', index_col='Unnamed: 0')\n",
        "input_data = pd.read_csv('/content/drive/MyDrive/CICIDS/Converted-Processed-CICIDS.csv', index_col='Unnamed: 0')\n",
        "\n",
        "input_tables = input_data.copy()\n",
        "input_tables.reset_index(inplace=True)\n",
        "input_tables.drop(['index'], axis=1, inplace=True)"
      ],
      "metadata": {
        "id": "KimHiQTB0uAm"
      },
      "execution_count": null,
      "outputs": []
    },
    {
      "cell_type": "code",
      "source": [
        "dl2 = input_tables.copy(deep=True)\n",
        "print(\"Pre-conversion values:\\n\", dl2['Label'].value_counts())\n",
        "for index, row in dl2.iterrows():\n",
        "  if row['Label'] == 'BENIGN':\n",
        "    dl2.at[index, 'Label'] = 0\n",
        "  else:\n",
        "    dl2.at[index, 'Label'] = 1\n",
        "print(\"\")\n",
        "print(\"Converted values:\\n\", dl2['Label'].value_counts())\n",
        "dl2 = dl2['Label']\n",
        "dl2 = dl2.astype('int')"
      ],
      "metadata": {
        "id": "kR8UURiNPJik"
      },
      "execution_count": null,
      "outputs": []
    },
    {
      "cell_type": "markdown",
      "source": [
        "## Main Program Start"
      ],
      "metadata": {
        "id": "uqNNzmKuE8_N"
      }
    },
    {
      "cell_type": "code",
      "source": [
        "### /content/drive/MyDrive/Dissertation/KNN\n",
        "## Loading\n",
        "x_train_filename = '/content/drive/MyDrive/Dissertation/KNN/X_train.sav'\n",
        "X_train = pickle.load(open(x_train_filename, 'rb'))\n",
        "x_test_filename = '/content/drive/MyDrive/Dissertation/KNN/X_test.sav'\n",
        "X_test = pickle.load(open(x_test_filename, 'rb'))\n",
        "x_val_filename = '/content/drive/MyDrive/Dissertation/KNN/X_val.sav'\n",
        "X_val = pickle.load(open(x_val_filename, 'rb'))\n",
        "y_train_filename = '/content/drive/MyDrive/Dissertation/KNN/Y_train.sav'\n",
        "Y_train = pickle.load(open(y_train_filename, 'rb'))\n",
        "y_test_filename = '/content/drive/MyDrive/Dissertation/KNN/Y_test.sav'\n",
        "Y_test = pickle.load(open(y_test_filename, 'rb'))\n",
        "y_val_filename = '/content/drive/MyDrive/Dissertation/KNN/Y_val.sav'\n",
        "Y_val = pickle.load(open(y_val_filename, 'rb'))"
      ],
      "metadata": {
        "id": "WQhtWy4U2e2S"
      },
      "execution_count": null,
      "outputs": []
    },
    {
      "cell_type": "markdown",
      "source": [
        "Model Definition"
      ],
      "metadata": {
        "id": "7N5DGERvDC0o"
      }
    },
    {
      "cell_type": "code",
      "source": [
        "X_train_NoAttack = X_train.copy()\n",
        "Y_train_NoAttack = Y_train.copy()\n",
        "\n",
        "X_val_NoAttack = X_val.copy()\n",
        "Y_val_NoAttack = Y_val.copy()\n",
        "\n",
        "row_train_NoAttack, column_train_NoAttack = X_train_NoAttack.shape\n",
        "model_main = Sequential()\n",
        "model_main.add(Conv1D(16,2, strides=2, padding='same', input_shape=(69, 1)))\n",
        "model_main.add(MaxPooling1D(pool_size=(4), strides=(2)))\n",
        "model_main.add(Conv1D(32,2, strides=2, padding='same', input_shape=(69, 1)))\n",
        "model_main.add(MaxPooling1D(pool_size=(4), strides=(2)))\n",
        "model_main.add(Conv1D(64,2, strides=2, padding='same', input_shape=(69, 1)))\n",
        "model_main.add(Flatten())\n",
        "model_main.add(Dense(1, activation='sigmoid'))\n",
        "model_main.compile(optimizer='adam', loss='binary_crossentropy', metrics=['acc'])\n",
        "model_main.fit(X_train_NoAttack, Y_train_NoAttack, epochs=200, verbose=1)"
      ],
      "metadata": {
        "id": "WzPspyVB9Jgu"
      },
      "execution_count": null,
      "outputs": []
    },
    {
      "cell_type": "code",
      "source": [
        "Y_CNN_NoAttack = model_main.predict(X_test, verbose=0)\n",
        "Y_predict_NoAttack = [0]*len(Y_CNN_NoAttack)\n",
        "\n",
        "for i in range(len(Y_CNN_NoAttack)):\n",
        "    if Y_CNN_NoAttack[i] < 0.5:\n",
        "            Y_CNN_NoAttack[i] = 0\n",
        "    else:\n",
        "            Y_CNN_NoAttack[i] = 1\n",
        "\n",
        "for i in range(len(Y_CNN_NoAttack)):\n",
        "    Y_predict_NoAttack[i] = int(Y_CNN_NoAttack[i])"
      ],
      "metadata": {
        "id": "KJeeYUgQPxwB"
      },
      "execution_count": null,
      "outputs": []
    },
    {
      "cell_type": "code",
      "source": [
        "### Saving\n",
        "model_main_filename = '/content/drive/MyDrive/Dissertation/KNN/model_main.sav'\n",
        "pickle.dump(model_main, open(model_main_filename, 'wb'))\n",
        "X_train_NoAttack_filename = '/content/drive/MyDrive/Dissertation/KNN/X_train_NoAttack.sav'\n",
        "pickle.dump(X_train_NoAttack, open(X_train_NoAttack_filename, 'wb'))\n",
        "Y_train_NoAttack_filename = '/content/drive/MyDrive/Dissertation/KNN/Y_train_NoAttack.sav'\n",
        "pickle.dump(Y_train_NoAttack, open(Y_train_NoAttack_filename, 'wb'))\n",
        "X_val_NoAttack_filename = '/content/drive/MyDrive/Dissertation/KNN/X_val_NoAttack.sav'\n",
        "pickle.dump(X_val_NoAttack, open(X_val_NoAttack_filename, 'wb'))\n",
        "Y_val_NoAttack_filename = '/content/drive/MyDrive/Dissertation/KNN/Y_val_NoAttack.sav'\n",
        "pickle.dump(Y_val_NoAttack, open(Y_val_NoAttack_filename, 'wb'))\n",
        "Y_CNN_NoAttack_filename = '/content/drive/MyDrive/Dissertation/KNN/Y_CNN_NoAttack.sav'\n",
        "pickle.dump(Y_CNN_NoAttack, open(Y_CNN_NoAttack_filename, 'wb'))\n",
        "Y_predict_NoAttack_filename = '/content/drive/MyDrive/Dissertation/KNN/Y_predict_NoAttack.sav'\n",
        "pickle.dump(Y_predict_NoAttack, open(Y_predict_NoAttack_filename, 'wb'))"
      ],
      "metadata": {
        "id": "r_sm7sxpuAIY"
      },
      "execution_count": null,
      "outputs": []
    },
    {
      "cell_type": "code",
      "source": [
        "# ### Loading\n",
        "# model_main_filename = '/content/drive/MyDrive/Dissertation/KNN/model_main.sav'\n",
        "# model_main = pickle.load(open(model_main_filename, 'rb'))\n",
        "# X_train_NoAttack_filename = '/content/drive/MyDrive/Dissertation/KNN/X_train_NoAttack.sav'\n",
        "# X_train_NoAttack = pickle.load(open(X_train_NoAttack_filename, 'rb'))\n",
        "# Y_train_NoAttack_filename = '/content/drive/MyDrive/Dissertation/KNN/Y_train_NoAttack.sav'\n",
        "# Y_train_NoAttack = pickle.load(open(Y_train_NoAttack_filename, 'rb'))\n",
        "# X_val_NoAttack_filename = '/content/drive/MyDrive/Dissertation/KNN/X_val_NoAttack.sav'\n",
        "# X_val_NoAttack = pickle.load(open(X_val_NoAttack_filename, 'rb'))\n",
        "# Y_val_NoAttack_filename = '/content/drive/MyDrive/Dissertation/KNN/Y_val_NoAttack.sav'\n",
        "# Y_val_NoAttack = pickle.load(open(Y_val_NoAttack_filename, 'rb'))\n",
        "# Y_CNN_NoAttack_filename = '/content/drive/MyDrive/Dissertation/KNN/Y_CNN_NoAttack.sav'\n",
        "# Y_CNN_NoAttack = pickle.load(open(Y_CNN_NoAttack_filename, 'rb'))\n",
        "# Y_predict_NoAttack_filename = '/content/drive/MyDrive/Dissertation/KNN/Y_predict_NoAttack.sav'\n",
        "# Y_predict_NoAttack = pickle.load(open(Y_predict_NoAttack_filename, 'rb'))"
      ],
      "metadata": {
        "id": "NGCrDblh3d3Y"
      },
      "execution_count": null,
      "outputs": []
    },
    {
      "cell_type": "markdown",
      "source": [
        "Result of Model without attack on X_test"
      ],
      "metadata": {
        "id": "EJpd6lDVoak3"
      }
    },
    {
      "cell_type": "code",
      "source": [
        "print(\"********************************Result of Model without attack******************************************************************\")\n",
        "# loss, accuracy = model_main.evaluate(X_train_NoAttack, Y_train_NoAttack, verbose=2)\n",
        "#loss, accuracy = model_main.evaluate(X_train_NoAttack, Y_train_NoAttack, verbose=2)\n",
        "loss, accuracy = model_main.evaluate(X_train_NoAttack, Y_train_NoAttack, verbose=2)\n",
        "\n",
        "print('Accuracy for Train set: %f' % (accuracy*100))\n",
        "print('Loss for Train set: %f' % (loss))\n",
        "print(\"                                                                   \")\n",
        "\n",
        "#loss, accuracy = model_main.evaluate(X_val_NoAttack, Y_val_NoAttack, verbose=2)\n",
        "loss, accuracy = model_main.evaluate(X_val_NoAttack, Y_val_NoAttack, verbose=2)\n",
        "print('Accuracy for Validation set: %f' % (accuracy*100))\n",
        "print('Loss for Train Validation set: %f' % (loss))\n",
        "print(\"                                                                   \")\n",
        "\n",
        "loss, accuracy = model_main.evaluate(X_test, Y_test, verbose=2)\n",
        "print('Accuracy for Test set: %f' % (accuracy*100))\n",
        "print('Loss for Test set:: %f' % (loss))\n",
        "print(\"                                                                   \")\n",
        "\n",
        "con_matrix = confusion_matrix(Y_test, Y_predict_NoAttack)\n",
        "print(con_matrix, \"\\n\")\n",
        "\n",
        "TN_NoAttack, FP_NoAttack, FN_NoAttack, TP_NoAttack = confusion_matrix((Y_test.astype(int).tolist()), Y_predict_NoAttack).ravel()\n",
        "print(\"TN_NoAttack:\",TN_NoAttack)\n",
        "print(\"FP_NoAttack:\",FP_NoAttack)\n",
        "print(\"FN_NoAttack:\",FN_NoAttack)\n",
        "print(\"TP_NoAttack:\",TP_NoAttack)\n",
        "print(\"                                                                   \")\n",
        "\n",
        "if (FP_NoAttack + TN_NoAttack) > 0:\n",
        "        FPR_NoAttack = FP_NoAttack/(FP_NoAttack + TN_NoAttack)\n",
        "        print(\"The FPR_NoAttack result:\", FPR_NoAttack)\n",
        "            \n",
        "if (FP_NoAttack + TN_NoAttack) > 0:\n",
        "        TPR_NoAttack=TP_NoAttack/(TP_NoAttack+FN_NoAttack)\n",
        "        print(\"The TPR_NoAttack result=\", TPR_NoAttack)\n",
        "            \n",
        "if (TN_NoAttack + FP_NoAttack) > 0:\n",
        "    TNR_NoAttack = TN_NoAttack/(TN_NoAttack + FP_NoAttack)\n",
        "    print(\"The TNR_NoAttack result:\", TNR_NoAttack)\n",
        "            \n",
        "if (FN_NoAttack + TP_NoAttack) > 0:\n",
        "    FNR_NoAttack = FN_NoAttack/(FN_NoAttack + TP_NoAttack)\n",
        "    print(\"The FNR_NoAttack result:\", FNR_NoAttack)\n",
        "            \n",
        "if ((TN_NoAttack/(TN_NoAttack + FP_NoAttack)) + (TP_NoAttack/(TP_NoAttack + FP_NoAttack))) > 0:\n",
        "    AUC_NoAttack = 1/(2*((TN_NoAttack/(TN_NoAttack + FP_NoAttack)) + (TP_NoAttack/(TP_NoAttack + FP_NoAttack))))\n",
        "    print(\"The AUC_NoAttack result:\", AUC_NoAttack)\n",
        "            \n",
        "if  (TP_NoAttack + TN_NoAttack + FP_NoAttack + FN_NoAttack) > 0:\n",
        "    ACC_NoAttack = (TP_NoAttack + TN_NoAttack)/(TP_NoAttack + TN_NoAttack + FP_NoAttack + FN_NoAttack)\n",
        "    print(\"The ACC_NoAttack result:\", ACC_NoAttack)\n",
        "            \n",
        "if  ((TP_NoAttack + FP_NoAttack) * (TP_NoAttack + FN_NoAttack) * (TN_NoAttack + FP_NoAttack) * (TN_NoAttack + FN_NoAttack)) > 0:\n",
        "    MCC_NoAttack = (TP_NoAttack * TN_NoAttack - FP_NoAttack * FN_NoAttack)/math.sqrt((TP_NoAttack + FP_NoAttack) * (TP_NoAttack + FN_NoAttack) * (TN_NoAttack + FP_NoAttack) * (TN_NoAttack + FN_NoAttack))\n",
        "    print(\"The Matthews correlation coefficient result:\", MCC_NoAttack)\n",
        "print(\"                                                                                                                               \")\n",
        "print(\"*****************************************************End of Without Attack part************************************************\")"
      ],
      "metadata": {
        "colab": {
          "base_uri": "https://localhost:8080/"
        },
        "id": "eymMhoRbM_Fw",
        "outputId": "3f65218f-ded4-4f18-bf10-7b0d313992c0"
      },
      "execution_count": null,
      "outputs": [
        {
          "output_type": "stream",
          "name": "stdout",
          "text": [
            "********************************Result of Model without attack******************************************************************\n",
            "53077/53077 - 87s - loss: 0.0226 - acc: 0.9931 - 87s/epoch - 2ms/step\n",
            "Accuracy for Train set: 99.313551\n",
            "Loss for Train set: 0.022632\n",
            "                                                                   \n",
            "17693/17693 - 29s - loss: 0.0231 - acc: 0.9928 - 29s/epoch - 2ms/step\n",
            "Accuracy for Validation set: 99.283755\n",
            "Loss for Train Validation set: 0.023121\n",
            "                                                                   \n",
            "17693/17693 - 29s - loss: 0.0260 - acc: 0.9929 - 29s/epoch - 2ms/step\n",
            "Accuracy for Test set: 99.287289\n",
            "Loss for Test set:: 0.025963\n",
            "                                                                   \n",
            "[[452810   1654]\n",
            " [  2381 109304]] \n",
            "\n",
            "TN_NoAttack: 452810\n",
            "FP_NoAttack: 1654\n",
            "FN_NoAttack: 2381\n",
            "TP_NoAttack: 109304\n",
            "                                                                   \n",
            "The FPR_NoAttack result: 0.003639452189832418\n",
            "The TPR_NoAttack result= 0.9786811120562295\n",
            "The TNR_NoAttack result: 0.9963605478101676\n",
            "The FNR_NoAttack result: 0.021318887943770425\n",
            "The AUC_NoAttack result: 0.2523399475009115\n",
            "The ACC_NoAttack result: 0.9928729009501033\n",
            "                                                                                                                               \n",
            "*****************************************************End of Without Attack part************************************************\n"
          ]
        },
        {
          "output_type": "stream",
          "name": "stderr",
          "text": [
            "/usr/local/lib/python3.7/dist-packages/ipykernel_launcher.py:55: RuntimeWarning: overflow encountered in long_scalars\n"
          ]
        }
      ]
    },
    {
      "cell_type": "markdown",
      "source": [
        "## Label Flipping Attack"
      ],
      "metadata": {
        "id": "KrtqHxfFnm4H"
      }
    },
    {
      "cell_type": "code",
      "source": [
        "print(\"*****************************************************Label Flipping Attack*****************************************************\")\n",
        "print(\"                                                                                                                               \")\n",
        "#************************** \n",
        "# Finding Malware of Train data\n",
        "malware_train = X_train.copy(deep=True)\n",
        "y_malware_train = Y_train.copy(deep=True)\n",
        "print(\"malware_train:\", malware_train.shape)\n",
        "cl_malware = list()\n",
        "z_m = 0\n",
        "count_m = 0\n",
        "drop_list = []\n",
        "for i, j in enumerate(Y_train):\n",
        "    if j == 0:\n",
        "        drop_list.append(X_train.index[i])\n",
        "        count_m = count_m + 1\n",
        "    else:\n",
        "        cl_malware.insert(z_m, 1)\n",
        "        z_m = z_m + 1 \n",
        "drop_list.sort(reverse=True)\n",
        "malware_train.drop(drop_list, inplace=True)\n",
        "y_malware_train.drop(drop_list, inplace=True)\n",
        "\n",
        "#***************************\n",
        "#Finding Benign of Train data\n",
        "cl_X_train = list(Y_train) \n",
        "benign_train = X_train.copy(deep=True)\n",
        "y_benign_train = Y_train.copy(deep=True)\n",
        "print(\"benign_train:\", benign_train.shape)\n",
        "z_b = 0\n",
        "count_b = 0\n",
        "cl_benign = list()\n",
        "drop_list = []\n",
        "for i, j in enumerate(cl_X_train):\n",
        "    if j == 1:\n",
        "        drop_list.append(X_train.index[i])\n",
        "        count_b = count_b+1\n",
        "    else:\n",
        "        cl_benign.insert(z_b, 1)\n",
        "        z_b = z_b+1\n",
        "drop_list.sort(reverse=True)\n",
        "benign_train.drop(drop_list, inplace=True)\n",
        "y_benign_train.drop(drop_list, inplace=True)\n",
        "\n",
        "print(\"***********Size of Each Data Part:**********\")        \n",
        "print(\"malware_train:\", malware_train.shape)\n",
        "print(\"benign_train:\", benign_train.shape)\n",
        "#***************************************************\n",
        "row_malware_train, column_malware_train = malware_train.shape\n",
        "\n",
        "X_train_LFA = X_train.copy(deep=True)\n",
        "Y_train_LFA = Y_train.copy(deep=True)\n",
        "\n",
        "row_train_LFA, column_train_LFA = X_train_LFA.shape"
      ],
      "metadata": {
        "id": "xBBHVhmcs3Ze"
      },
      "execution_count": null,
      "outputs": []
    },
    {
      "cell_type": "code",
      "source": [
        "### Saving\n",
        "malware_train_filename = '/content/drive/MyDrive/Dissertation/KNN/malware_train.sav'\n",
        "pickle.dump(malware_train, open(malware_train_filename, 'wb'))\n",
        "y_malware_train_filename = '/content/drive/MyDrive/Dissertation/KNN/y_malware_train.sav'\n",
        "pickle.dump(y_malware_train, open(y_malware_train_filename, 'wb'))\n",
        "benign_train_filename = '/content/drive/MyDrive/Dissertation/KNN/benign_train.sav'\n",
        "pickle.dump(benign_train, open(benign_train_filename, 'wb'))\n",
        "y_benign_train_filename = '/content/drive/MyDrive/Dissertation/KNN/y_benign_train.sav'\n",
        "pickle.dump(y_benign_train, open(y_benign_train_filename, 'wb'))\n",
        "X_train_LFA_filename = '/content/drive/MyDrive/Dissertation/KNN/X_train_LFA.sav'\n",
        "pickle.dump(X_train_LFA, open(X_train_LFA_filename, 'wb'))\n",
        "Y_train_LFA_filename = '/content/drive/MyDrive/Dissertation/KNN/Y_train_LFA.sav'\n",
        "pickle.dump(Y_train_LFA, open(Y_train_LFA_filename, 'wb'))"
      ],
      "metadata": {
        "id": "3cTH0FjZwbLC"
      },
      "execution_count": null,
      "outputs": []
    },
    {
      "cell_type": "code",
      "source": [
        "# ### loading\n",
        "# malware_train_filename = '/content/drive/MyDrive/Dissertation/KNN/malware_train.sav'\n",
        "# malware_train = pickle.load(open(malware_train_filename, 'rb'))\n",
        "# y_malware_train_filename = '/content/drive/MyDrive/Dissertation/KNN/y_malware_train.sav'\n",
        "# y_malware_train = pickle.load(open(y_malware_train_filename, 'rb'))\n",
        "# benign_train_filename = '/content/drive/MyDrive/Dissertation/KNN/benign_train.sav'\n",
        "# benign_train = pickle.load(open(benign_train_filename, 'rb'))\n",
        "# y_benign_train_filename = '/content/drive/MyDrive/Dissertation/KNN/y_benign_train.sav'\n",
        "# y_benign_train = pickle.load(open(y_benign_train_filename, 'rb'))\n",
        "# X_train_LFA_filename = '/content/drive/MyDrive/Dissertation/KNN/X_train_LFA.sav'\n",
        "# X_train_LFA = pickle.load(open(X_train_LFA_filename, 'rb'))\n",
        "# Y_train_LFA_filename = '/content/drive/MyDrive/Dissertation/KNN/Y_train_LFA.sav'\n",
        "# Y_train_LFA = pickle.load(open(Y_train_LFA_filename, 'rb'))\n",
        "\n",
        "# row_train_LFA, column_train_LFA = X_train_LFA.shape"
      ],
      "metadata": {
        "id": "Ll8uO5Rq3AQu"
      },
      "execution_count": null,
      "outputs": []
    },
    {
      "cell_type": "code",
      "source": [
        "clusterer = KMeans(n_clusters=2, random_state=10)\n",
        "#X=X_train_LFA.toarray()\n",
        "X = X_train_LFA.copy(deep=True)\n",
        "t0 = time.time()\n",
        "cluster_labels = clusterer.fit_predict(X)\n",
        "sample_silhouette_values = silhouette_samples(X, cluster_labels)\n",
        "#print(\"sample_silhouette_values = \",sample_silhouette_values)\n",
        "t1 = time.time()\n",
        "print(\"Time for creating silhouette samples: \",t1-t0)"
      ],
      "metadata": {
        "id": "Tv2wbeRisSlW"
      },
      "execution_count": null,
      "outputs": []
    },
    {
      "cell_type": "code",
      "source": [
        "### Saving silhouette_samples\n",
        "silhouette_samples_filename = '/content/drive/MyDrive/Dissertation/KNN/silhouette_samples.pkl'\n",
        "pickle.dump(sample_silhouette_values, open(silhouette_samples_filename, 'wb'))\n",
        "clusterer_filename = '/content/drive/MyDrive/Dissertation/KNN/clusterer.pkl'\n",
        "pickle.dump(clusterer, open(clusterer_filename, 'wb'))\n",
        "cluster_labels_filename = '/content/drive/MyDrive/Dissertation/KNN/cluster_labels.pkl'\n",
        "pickle.dump(cluster_labels, open(cluster_labels_filename, 'wb'))"
      ],
      "metadata": {
        "id": "WotJ4_5lmrKw"
      },
      "execution_count": null,
      "outputs": []
    },
    {
      "cell_type": "code",
      "source": [
        "## Loading silhouette_samples\n",
        "silhouette_samples_filename = '/content/drive/MyDrive/Dissertation/KNN/silhouette_samples.pkl'\n",
        "sample_silhouette_values = pickle.load(open(silhouette_samples_filename, 'rb'))\n",
        "clusterer_filename = '/content/drive/MyDrive/Dissertation/KNN/clusterer.pkl'\n",
        "clusterer = pickle.load(open(clusterer_filename, 'rb'))\n",
        "cluster_labels_filename = '/content/drive/MyDrive/Dissertation/KNN/cluster_labels.pkl'\n",
        "cluster_labels = pickle.load(open(cluster_labels_filename, 'rb'))"
      ],
      "metadata": {
        "id": "UtfE9z4CmuD4"
      },
      "execution_count": null,
      "outputs": []
    },
    {
      "cell_type": "code",
      "source": [
        "t0 = time.time()\n",
        "print(\"Values:\\n\", Y_train_LFA.value_counts())\n",
        "flipped_Y_train = list(Y_train_LFA)\n",
        "# flipped_Y_train = Y_train_LFA.copy(deep=True)\n",
        "counter = 0\n",
        "\n",
        "### For CICIDS 2017 - replace silhouette_level with these values for different levels of poisoning\n",
        "### 0.05 = Original label flipping level\n",
        "### 0.15 = 5% label flipping = -0.04908  = 5585\n",
        "### 0.29 = 10% label flipping = 0.0277734 = 11168\n",
        "### 0.335 = 15% label flipping =  0.066497  = 16752\n",
        "### 0.36 = 20% label flipping = 0.0932973  = 22337\n",
        "### 0.405 = 25% label flipping = 0.115875  = 27921\n",
        "\n",
        "silhouette_level = 0.405\n",
        "for new_index in range(row_train_LFA): \n",
        "    if (sample_silhouette_values[new_index]<silhouette_level):\n",
        "        flipped_Y_train[new_index] = abs(flipped_Y_train[new_index]-1)     # flipped_Y_train[new_index]=1\n",
        "        counter = counter + 1\n",
        "\n",
        "print(\"Flipped counter:\", counter)\n",
        "p1 = 1363891 + 334554\n",
        "print(str((counter/p1)*100)+ \"%\")\n",
        "print(\"0:\", str(flipped_Y_train.count(0)))\n",
        "print(\"1:\", str(flipped_Y_train.count(1)))\n",
        "t1 = time.time()\n",
        "print(\"Time for Label Flipping Attack: \",t1-t0)\n",
        "print(\"                                                         \") "
      ],
      "metadata": {
        "id": "iseC2daGKRWZ",
        "colab": {
          "base_uri": "https://localhost:8080/"
        },
        "outputId": "896c21cc-ba59-4b0a-c425-bbf3d92aded9"
      },
      "execution_count": null,
      "outputs": [
        {
          "output_type": "stream",
          "name": "stdout",
          "text": [
            "Values:\n",
            " 0    1363891\n",
            "1     334554\n",
            "dtype: int64\n",
            "Flipped counter: 428497\n",
            "25.228782798383225%\n",
            "0: 1223594\n",
            "1: 474851\n",
            "Time for Label Flipping Attack:  0.6700105667114258\n",
            "                                                         \n"
          ]
        }
      ]
    },
    {
      "cell_type": "code",
      "source": [
        "### Saving\n",
        "flipped_Y_train_filename = '/content/drive/MyDrive/Dissertation/KNN/5/flipped_Y_train.pkl'\n",
        "pickle.dump(flipped_Y_train, open(flipped_Y_train_filename, 'wb'))"
      ],
      "metadata": {
        "id": "gNHBUyfKy_15"
      },
      "execution_count": null,
      "outputs": []
    },
    {
      "cell_type": "code",
      "source": [
        "# ## Loading\n",
        "# flipped_Y_train_filename = '/content/drive/MyDrive/Dissertation/KNN/5/flipped_Y_train.pkl'\n",
        "# flipped_Y_train = pickle.load(open(flipped_Y_train_filename, 'rb'))"
      ],
      "metadata": {
        "id": "VSwgdvy8zIXt"
      },
      "execution_count": null,
      "outputs": []
    },
    {
      "cell_type": "code",
      "source": [
        "#**************************************************************************\n",
        "model_main_LFA_Final = Sequential()\n",
        "model_main_LFA_Final.add(Conv1D(16,2, strides=2, padding='same', input_shape=(69,1)))\n",
        "model_main_LFA_Final.add(MaxPooling1D(pool_size=(4), strides=(2)))\n",
        "model_main_LFA_Final.add(Conv1D(32,2, strides=2, padding='same', input_shape=(69,1)))\n",
        "model_main_LFA_Final.add(MaxPooling1D(pool_size=(4), strides=(2)))\n",
        "model_main_LFA_Final.add(Conv1D(64,2, strides=2, padding='same', input_shape=(69,1)))\n",
        "model_main_LFA_Final.add(Flatten())\n",
        "model_main_LFA_Final.add(Dense(1, activation='sigmoid'))\n",
        "model_main_LFA_Final.compile(optimizer='adam', loss='binary_crossentropy', metrics=['acc'])\n",
        "model_main_LFA_Final.fit(X_train_LFA, np.array(flipped_Y_train), epochs=200, verbose=1)"
      ],
      "metadata": {
        "id": "BLZN5wtl1n9S"
      },
      "execution_count": null,
      "outputs": []
    },
    {
      "cell_type": "code",
      "source": [
        "Y_predict_LFA=model_main_LFA_Final.predict(X_test, verbose=0)\n",
        "Y_predict_LFA_Final=[0]*len(Y_predict_LFA)\n",
        "\n",
        "for i in range(len(Y_predict_LFA)):\n",
        "    if Y_predict_LFA[i]<0.5:\n",
        "            Y_predict_LFA[i] = 0\n",
        "    else:\n",
        "            Y_predict_LFA[i] = 1\n",
        "\n",
        "for i in range(len(Y_predict_LFA)):\n",
        "    Y_predict_LFA_Final[i] = int(Y_predict_LFA[i])  "
      ],
      "metadata": {
        "id": "KttYkl4p1rQi"
      },
      "execution_count": null,
      "outputs": []
    },
    {
      "cell_type": "code",
      "source": [
        "### Saving\n",
        "model_main_LFA_Final_filename = '/content/drive/MyDrive/Dissertation/KNN/5/model_main_LFA_Final.pkl'\n",
        "pickle.dump(model_main_LFA_Final, open(model_main_LFA_Final_filename, 'wb'))\n",
        "Y_predict_LFA_filename = '/content/drive/MyDrive/Dissertation/KNN/5/Y_predict_LFA.pkl'\n",
        "pickle.dump(Y_predict_LFA, open(Y_predict_LFA_filename, 'wb'))\n",
        "Y_predict_LFA_Final_filename = '/content/drive/MyDrive/Dissertation/KNN/5/Y_predict_LFA_Final.pkl'\n",
        "pickle.dump(Y_predict_LFA_Final, open(Y_predict_LFA_Final_filename, 'wb'))"
      ],
      "metadata": {
        "id": "SX7PLE1Qzkke"
      },
      "execution_count": null,
      "outputs": []
    },
    {
      "cell_type": "code",
      "source": [
        "# ### Loading\n",
        "# model_main_LFA_Final_filename = '/content/drive/MyDrive/Dissertation/KNN/5/model_main_LFA_Final.pkl'\n",
        "# model_main_LFA_Final = pickle.load(open(model_main_LFA_Final_filename, 'rb'))\n",
        "# Y_predict_LFA_filename = '/content/drive/MyDrive/Dissertation/KNN/5/Y_predict_LFA.pkl'\n",
        "# Y_predict_LFA = pickle.load(open(Y_predict_LFA_filename, 'rb'))\n",
        "# Y_predict_LFA_Final_filename = '/content/drive/MyDrive/Dissertation/KNN/5/Y_predict_LFA_Final.pkl'\n",
        "# Y_predict_LFA_Final = pickle.load(open(Y_predict_LFA_Final_filename, 'rb'))"
      ],
      "metadata": {
        "id": "VWFtXnCU_Y8Q"
      },
      "execution_count": null,
      "outputs": []
    },
    {
      "cell_type": "markdown",
      "source": [
        "Result of Model with LFA"
      ],
      "metadata": {
        "id": "EltzorSXDlTz"
      }
    },
    {
      "cell_type": "code",
      "source": [
        "print(\"********************************Result of Model with LFA attack **************************************************************\")\n",
        "print(\"                                                                                                                              \")\n",
        "loss, accuracy = model_main_LFA_Final.evaluate(X_train_LFA, np.array(flipped_Y_train), verbose=2)\n",
        "print('Accuracy for Train set: %f' % (accuracy*100))\n",
        "print('Loss for Train set: %f' % (loss))\n",
        "print(\"                                                                   \")\n",
        "\n",
        "loss, accuracy = model_main_LFA_Final.evaluate(X_test, Y_test, verbose=2)\n",
        "print('Accuracy for Test set: %f' % (accuracy*100))\n",
        "print('Loss for Test set:: %f' % (loss))\n",
        "print(\"                                                                   \")\n",
        "\n",
        "TN_LFA, FP_LFA, FN_LFA, TP_LFA = confusion_matrix(Y_test,  Y_predict_LFA_Final).ravel()\n",
        "print(\"TN_LFA:\", TN_LFA)\n",
        "print(\"FP_LFA:\", FP_LFA)\n",
        "print(\"FN_LFA:\", FN_LFA)\n",
        "print(\"TP_LFA:\", TP_LFA)\n",
        "print(\"                                                                   \")\n",
        "\n",
        "if (FP_LFA+TN_LFA) > 0:\n",
        "        FPR_LFA=FP_LFA/(FP_LFA+TN_LFA)\n",
        "        print(\"The FPR_LFA result=\", FPR_LFA)\n",
        "            \n",
        "if (FP_LFA+TN_LFA) > 0:\n",
        "        TPR_LFA = TP_LFA/(TP_LFA+FN_LFA)\n",
        "        print(\"The TPR_LFA result:\", TPR_LFA)\n",
        "            \n",
        "if (TN_LFA+FP_LFA) > 0:\n",
        "    TNR_LFA = TN_LFA/(TN_LFA+FP_LFA)\n",
        "    print(\"The TNR_LFA result:\", TNR_LFA)\n",
        "            \n",
        "if (FN_LFA+TP_LFA) > 0:\n",
        "    FNR_LFA = FN_LFA/(FN_LFA+TP_LFA)\n",
        "    print(\"The FNR_LFA result:\", FNR_LFA)\n",
        "            \n",
        "if ((TN_LFA/(TN_LFA+FP_LFA))+(TP_LFA/(TP_LFA+FP_LFA))) > 0:\n",
        "    AUC_LFA = 1/(2*((TN_LFA/(TN_LFA+FP_LFA))+(TP_LFA/(TP_LFA+FP_LFA))))\n",
        "    print(\"The AUC_LFA result:\", AUC_LFA)\n",
        "            \n",
        "if  (TP_LFA+TN_LFA+FP_LFA+FN_LFA) > 0:\n",
        "    ACC_LFA = (TP_LFA+TN_LFA)/(TP_LFA+TN_LFA+FP_LFA+FN_LFA)\n",
        "    print(\"The ACC_LFA result:\", ACC_LFA)\n",
        "            \n",
        "if  ((TP_LFA+FP_LFA)*(TP_LFA+FN_LFA)*(TN_LFA+FP_LFA)*(TN_LFA+FN_LFA)) > 0:\n",
        "    MCC_LFA = (TP_LFA*TN_LFA-FP_LFA*FN_LFA)/math.sqrt((TP_LFA+FP_LFA)*(TP_LFA+FN_LFA)*(TN_LFA+FP_LFA)*(TN_LFA+FN_LFA))\n",
        "    print(\"The Matthews correlation coefficient result:\", MCC_LFA)\n",
        "print(\"                                                                                                                               \")\n",
        "print(\"************************************************End of Label Flipping Attack part**********************************************\")"
      ],
      "metadata": {
        "colab": {
          "base_uri": "https://localhost:8080/"
        },
        "id": "T3j_Sep_Dn0J",
        "outputId": "8f31e0ba-6678-434a-ea10-efe1dc2b54fc"
      },
      "execution_count": null,
      "outputs": [
        {
          "output_type": "stream",
          "name": "stdout",
          "text": [
            "********************************Result of Model with LFA attack **************************************************************\n",
            "                                                                                                                              \n",
            "53077/53077 - 86s - loss: 0.0547 - acc: 0.9814 - 86s/epoch - 2ms/step\n",
            "Accuracy for Train set: 98.141950\n",
            "Loss for Train set: 0.054745\n",
            "                                                                   \n",
            "17693/17693 - 36s - loss: 15.0193 - acc: 0.7358 - 36s/epoch - 2ms/step\n",
            "Accuracy for Test set: 73.580807\n",
            "Loss for Test set:: 15.019323\n",
            "                                                                   \n",
            "TN_LFA: 358078\n",
            "FP_LFA: 96386\n",
            "FN_LFA: 53186\n",
            "TP_LFA: 58499\n",
            "                                                                   \n",
            "The FPR_LFA result= 0.2120872060273201\n",
            "The TPR_LFA result: 0.5237856471325604\n",
            "The TNR_LFA result: 0.7879127939726799\n",
            "The FNR_LFA result: 0.4762143528674397\n",
            "The AUC_LFA result: 0.4289614448034144\n",
            "The ACC_LFA result: 0.735808064661423\n",
            "The Matthews correlation coefficient result: 7.104550769496822\n",
            "                                                                                                                               \n",
            "************************************************End of Label Flipping Attack part**********************************************\n"
          ]
        },
        {
          "output_type": "stream",
          "name": "stderr",
          "text": [
            "/usr/local/lib/python3.7/dist-packages/ipykernel_launcher.py:44: RuntimeWarning: overflow encountered in long_scalars\n",
            "/usr/local/lib/python3.7/dist-packages/ipykernel_launcher.py:45: RuntimeWarning: overflow encountered in long_scalars\n"
          ]
        }
      ]
    },
    {
      "cell_type": "markdown",
      "source": [
        "KNN Based Semi-Supervised Defense(KSD)"
      ],
      "metadata": {
        "id": "VMhY4jflMhuo"
      }
    },
    {
      "cell_type": "code",
      "source": [
        "print(\"*****************************************************KNN Based Semi-Supervised Defense(KSD)************************************\")\n",
        "print(\"                                                                                                                               \")\n",
        "\n",
        "X_train_KNN = X_train.copy(deep=True)\n",
        "Y_train_KNN = flipped_Y_train[:]\n",
        "# Y_train_KNN = flipped_Y_train.copy(deep=True)\n",
        "\n",
        "X_val_KNN = X_val.copy(deep=True)\n",
        "# Y_val_KNN = Y_val[:]\n",
        "Y_val_KNN = Y_val.copy(deep=True)\n",
        "\n",
        "row_train_KNN, column_train_KNN = X_train_KNN.shape\n",
        "    \n",
        "Number_of_flipped_label = int(row_train_KNN/50)\n",
        "Y_train_corrected_By_KNN = list(Y_train_KNN)\n",
        "\n",
        "c = 0\n",
        "m = 0"
      ],
      "metadata": {
        "colab": {
          "base_uri": "https://localhost:8080/"
        },
        "id": "AqyRV6cx8bXW",
        "outputId": "8f954390-269c-4801-f1d0-aadffb63b5a9"
      },
      "execution_count": null,
      "outputs": [
        {
          "output_type": "stream",
          "name": "stdout",
          "text": [
            "*****************************************************KNN Based Semi-Supervised Defense(KSD)************************************\n",
            "                                                                                                                               \n"
          ]
        }
      ]
    },
    {
      "cell_type": "code",
      "source": [
        "### Saving\n",
        "X_train_KNN_filename = '/content/drive/MyDrive/Dissertation/KSSD/5/X_train_KNN.pkl'\n",
        "pickle.dump(X_train_KNN, open(X_train_KNN_filename, 'wb'))\n",
        "Y_train_KNN_filename = '/content/drive/MyDrive/Dissertation/KSSD/5/Y_train_KNN.pkl'\n",
        "pickle.dump(Y_train_KNN, open(Y_train_KNN_filename, 'wb'))\n",
        "X_val_KNN_filename = '/content/drive/MyDrive/Dissertation/KSSD/5/X_val_KNN.pkl'\n",
        "pickle.dump(X_val_KNN, open(X_val_KNN_filename, 'wb'))\n",
        "Y_val_KNN_filename = '/content/drive/MyDrive/Dissertation/KSSD/5/Y_val_KNN.pkl'\n",
        "pickle.dump(Y_val_KNN, open(Y_val_KNN_filename, 'wb'))\n",
        "Number_of_flipped_label_filename = '/content/drive/MyDrive/Dissertation/KSSD/5/Number_of_flipped_label.pkl'\n",
        "pickle.dump(Number_of_flipped_label, open(Number_of_flipped_label_filename, 'wb'))\n",
        "Y_train_corrected_By_KNN_filename = '/content/drive/MyDrive/Dissertation/KSSD/5/Y_train_corrected_By_KNN.pkl'\n",
        "pickle.dump(Y_train_corrected_By_KNN, open(Y_train_corrected_By_KNN_filename, 'wb'))"
      ],
      "metadata": {
        "id": "-wETyQcATfLd"
      },
      "execution_count": null,
      "outputs": []
    },
    {
      "cell_type": "code",
      "source": [
        "# ### Loading\n",
        "# X_train_KNN_filename = '/content/drive/MyDrive/Dissertation/KSSD/5/X_train_KNN.pkl'\n",
        "# X_train_KNN = pickle.load(open(X_train_KNN_filename, 'rb'))\n",
        "# Y_train_KNN_filename = '/content/drive/MyDrive/Dissertation/KSSD/5/Y_train_KNN.pkl'\n",
        "# Y_train_KNN = pickle.load(open(Y_train_KNN_filename, 'rb'))\n",
        "# X_val_KNN_filename = '/content/drive/MyDrive/Dissertation/KSSD/5/X_val_KNN.pkl'\n",
        "# X_val_KNN = pickle.load(open(X_val_KNN_filename, 'rb'))\n",
        "# Y_val_KNN_filename = '/content/drive/MyDrive/Dissertation/KSSD/5/Y_val_KNN.pkl'\n",
        "# Y_val_KNN = pickle.load(open(Y_val_KNN_filename, 'rb'))\n",
        "# Number_of_flipped_label_filename = '/content/drive/MyDrive/Dissertation/KSSD/5/Number_of_flipped_label.pkl'\n",
        "# Number_of_flipped_label = pickle.load(open(Number_of_flipped_label_filename, 'rb'))\n",
        "# Y_train_corrected_By_KNN_filename = '/content/drive/MyDrive/Dissertation/KSSD/5/Y_train_corrected_By_KNN.pkl'\n",
        "# Y_train_corrected_By_KNN = pickle.load(open(Y_train_corrected_By_KNN_filename, 'rb'))"
      ],
      "metadata": {
        "id": "FbddcVcI_gjP"
      },
      "execution_count": null,
      "outputs": []
    },
    {
      "cell_type": "code",
      "source": [
        "t2 = time.time()\n",
        "\n",
        "for i in list(range(Number_of_flipped_label)):\n",
        "        row_KNN = X_train_KNN.head(i+1).tail(1)\n",
        "\n",
        "        distances = sklearn.metrics.pairwise.manhattan_distances(row_KNN, X_val_KNN)\n",
        "        indices = distances.argsort()[:10]\n",
        "        d=indices[0]\n",
        "        a=d[0:10]\n",
        "    \n",
        "        F=0\n",
        "        for j in range(len(a)):\n",
        "                t = a[j]\n",
        "                F = F+Y_val_KNN.iloc[t]\n",
        "        fraction=F/10\n",
        "        if fraction >= 0.5:\n",
        "            # Y_train_corrected_By_KNN[i] = 1\n",
        "            Y_train_corrected_By_KNN[i] = 0\n",
        "            m = m + 1\n",
        "        else: \n",
        "            # Y_train_corrected_By_KNN[i] = 0\n",
        "            Y_train_corrected_By_KNN[i] = 1\n",
        "            c = c + 1\n",
        "Y_train_corrected_By_KNN_Final=np.array(Y_train_corrected_By_KNN)  \n",
        "t3=time.time()\n",
        "print(\"Time for KNN Based Semi-Supervised Defense(KSD) =\",t3-t2)\n",
        "print(\"                                                                   \")"
      ],
      "metadata": {
        "colab": {
          "base_uri": "https://localhost:8080/"
        },
        "id": "d-2aC2yUDrRy",
        "outputId": "d3e2a584-06e4-4616-8057-8bb01a094be6"
      },
      "execution_count": null,
      "outputs": [
        {
          "output_type": "stream",
          "name": "stdout",
          "text": [
            "Time for KNN Based Semi-Supervised Defense(KSD) = 8801.104440689087\n",
            "                                                                   \n"
          ]
        }
      ]
    },
    {
      "cell_type": "code",
      "source": [
        "### Saving\n",
        "Y_train_corrected_By_KNN_Final_filename = '/content/drive/MyDrive/Dissertation/KSSD/5/Y_train_corrected_By_KNN_Final.pkl'\n",
        "pickle.dump(Y_train_corrected_By_KNN_Final, open(Y_train_corrected_By_KNN_Final_filename, 'wb'))"
      ],
      "metadata": {
        "id": "PnM_jKgyUKcU"
      },
      "execution_count": null,
      "outputs": []
    },
    {
      "cell_type": "code",
      "source": [
        "# ### Loading\n",
        "# Y_train_corrected_By_KNN_Final_filename = '/content/drive/MyDrive/Dissertation/KSSD/5/Y_train_corrected_By_KNN_Final.pkl'\n",
        "# Y_train_corrected_By_KNN_Final = pickle.load(open(Y_train_corrected_By_KNN_Final_filename, 'rb'))"
      ],
      "metadata": {
        "id": "wb9C_iOO_vkD"
      },
      "execution_count": null,
      "outputs": []
    },
    {
      "cell_type": "code",
      "source": [
        "model_main_KNN = Sequential()\n",
        "model_main_KNN.add(Conv1D(16,2, strides=2, padding='same', input_shape=(69,1)))\n",
        "model_main_KNN.add(MaxPooling1D(pool_size=(4), strides=(2)))\n",
        "model_main_KNN.add(Conv1D(32,2, strides=2, padding='same', input_shape=(69,1)))\n",
        "model_main_KNN.add(MaxPooling1D(pool_size=(4), strides=(2)))\n",
        "model_main_KNN.add(Conv1D(64,2, strides=2, padding='same', input_shape=(69,1)))\n",
        "model_main_KNN.add(Flatten())\n",
        "model_main_KNN.add(Dense(1, activation='sigmoid'))\n",
        "model_main_KNN.compile(optimizer='adam', loss='binary_crossentropy', metrics=['acc'])\n",
        "model_main_KNN.fit(X_train_KNN,Y_train_corrected_By_KNN_Final, epochs=20, batch_size=32, verbose=1)"
      ],
      "metadata": {
        "id": "O4kDfpch6AH9",
        "colab": {
          "base_uri": "https://localhost:8080/"
        },
        "outputId": "31d4576b-1c44-4eec-d10e-69f437c08e6e"
      },
      "execution_count": null,
      "outputs": [
        {
          "output_type": "stream",
          "name": "stdout",
          "text": [
            "Epoch 1/20\n",
            "53077/53077 [==============================] - 159s 3ms/step - loss: 0.2118 - acc: 0.9207\n",
            "Epoch 2/20\n",
            "53077/53077 [==============================] - 158s 3ms/step - loss: 0.1803 - acc: 0.9368\n",
            "Epoch 3/20\n",
            "53077/53077 [==============================] - 158s 3ms/step - loss: 0.1743 - acc: 0.9398\n",
            "Epoch 4/20\n",
            "53077/53077 [==============================] - 157s 3ms/step - loss: 0.1709 - acc: 0.9413\n",
            "Epoch 5/20\n",
            "53077/53077 [==============================] - 158s 3ms/step - loss: 0.1686 - acc: 0.9423\n",
            "Epoch 6/20\n",
            "53077/53077 [==============================] - 158s 3ms/step - loss: 0.1668 - acc: 0.9432\n",
            "Epoch 7/20\n",
            "53077/53077 [==============================] - 159s 3ms/step - loss: 0.1650 - acc: 0.9439\n",
            "Epoch 8/20\n",
            "53077/53077 [==============================] - 158s 3ms/step - loss: 0.1637 - acc: 0.9446\n",
            "Epoch 9/20\n",
            "53077/53077 [==============================] - 159s 3ms/step - loss: 0.1627 - acc: 0.9453\n",
            "Epoch 10/20\n",
            "53077/53077 [==============================] - 158s 3ms/step - loss: 0.1617 - acc: 0.9456\n",
            "Epoch 11/20\n",
            "53077/53077 [==============================] - 159s 3ms/step - loss: 0.1609 - acc: 0.9460\n",
            "Epoch 12/20\n",
            "53077/53077 [==============================] - 158s 3ms/step - loss: 0.1603 - acc: 0.9462\n",
            "Epoch 13/20\n",
            "53077/53077 [==============================] - 159s 3ms/step - loss: 0.1596 - acc: 0.9465\n",
            "Epoch 14/20\n",
            "53077/53077 [==============================] - 157s 3ms/step - loss: 0.1587 - acc: 0.9469\n",
            "Epoch 15/20\n",
            "53077/53077 [==============================] - 158s 3ms/step - loss: 0.1574 - acc: 0.9472\n",
            "Epoch 16/20\n",
            "53077/53077 [==============================] - 158s 3ms/step - loss: 0.1567 - acc: 0.9476\n",
            "Epoch 17/20\n",
            "53077/53077 [==============================] - 158s 3ms/step - loss: 0.1560 - acc: 0.9477\n",
            "Epoch 18/20\n",
            "53077/53077 [==============================] - 158s 3ms/step - loss: 0.1554 - acc: 0.9480\n",
            "Epoch 19/20\n",
            "53077/53077 [==============================] - 157s 3ms/step - loss: 0.1549 - acc: 0.9480\n",
            "Epoch 20/20\n",
            "53077/53077 [==============================] - 157s 3ms/step - loss: 0.1544 - acc: 0.9480\n"
          ]
        },
        {
          "output_type": "execute_result",
          "data": {
            "text/plain": [
              "<keras.callbacks.History at 0x7fbad21ac2d0>"
            ]
          },
          "metadata": {},
          "execution_count": 94
        }
      ]
    },
    {
      "cell_type": "code",
      "source": [
        "Y_predict_KNN = model_main_KNN.predict(X_test, verbose=0)\n",
        "Y_predict_KNN_Final = [0]*len(Y_predict_KNN)\n",
        "for i in range(len(Y_predict_KNN)):\n",
        "    if Y_predict_KNN[i] < 0.5:\n",
        "            Y_predict_KNN[i] = 0\n",
        "    else:\n",
        "            Y_predict_KNN[i] = 1\n",
        "\n",
        "for i in range(len(Y_predict_KNN)):\n",
        "    Y_predict_KNN_Final[i] = int(Y_predict_KNN[i])"
      ],
      "metadata": {
        "id": "Hgpam76G56ka"
      },
      "execution_count": null,
      "outputs": []
    },
    {
      "cell_type": "code",
      "source": [
        "### Saving\n",
        "model_main_KNN_filename = '/content/drive/MyDrive/Dissertation/KSSD/5/model_main_KNN.pkl'\n",
        "pickle.dump(model_main_KNN, open(model_main_KNN_filename, 'wb'))\n",
        "Y_predict_KNN_filename = '/content/drive/MyDrive/Dissertation/KSSD/5/Y_predict_KNN.pkl'\n",
        "pickle.dump(Y_predict_KNN, open(Y_predict_KNN_filename, 'wb'))\n",
        "Y_predict_KNN_Final_filename = '/content/drive/MyDrive/Dissertation/KSSD/5/Y_predict_KNN_Final.pkl'\n",
        "pickle.dump(Y_predict_KNN_Final, open(Y_predict_KNN_Final_filename, 'wb'))"
      ],
      "metadata": {
        "id": "EEbK6_OsUmxG"
      },
      "execution_count": null,
      "outputs": []
    },
    {
      "cell_type": "code",
      "source": [
        "# ### Loading\n",
        "# model_main_KNN_filename = '/content/drive/MyDrive/Dissertation/KSSD/5/model_main_KNN.pkl'\n",
        "# model_main_KNN = pickle.load(open(model_main_KNN_filename, 'rb'))\n",
        "# Y_predict_KNN_filename = '/content/drive/MyDrive/Dissertation/KSSD/5/Y_predict_KNN.pkl'\n",
        "# Y_predict_KNN = pickle.load(open(Y_predict_KNN_filename, 'rb'))\n",
        "# Y_predict_KNN_Final_filename = '/content/drive/MyDrive/Dissertation/KSSD/5/Y_predict_KNN_Final.pkl'\n",
        "# Y_predict_KNN_Final = pickle.load(open(Y_predict_KNN_Final_filename, 'rb'))"
      ],
      "metadata": {
        "id": "6k8Yn84I_1u2"
      },
      "execution_count": null,
      "outputs": []
    },
    {
      "cell_type": "markdown",
      "source": [
        "Result of Model After KNN Based Defense"
      ],
      "metadata": {
        "id": "vqxzv0OlDxM8"
      }
    },
    {
      "cell_type": "code",
      "source": [
        "print(\"************************Result After KNN_Based Defense************************************************************************\")\n",
        "print(\"                                                                                                                               \")\n",
        "\n",
        "loss, accuracy = model_main_KNN.evaluate(X_train_KNN, np.asarray(Y_train_KNN), verbose=0)\n",
        "print('Accuracy for Train set: %f' % (accuracy*100))\n",
        "print('Loss for Train set: %f' % (loss))\n",
        "print(\"                                                                   \")\n",
        "\n",
        "loss, accuracy = model_main_KNN.evaluate(X_test, Y_test, batch_size=32, verbose=0)\n",
        "print('Accuracy After KNN-Based Defense: %f' % (accuracy*100))\n",
        "print('Loss After KNN-Based Defense: %f' % (loss))\n",
        "print(\"                                                                   \")\n",
        "\n",
        "TN_KNN, FP_KNN, FN_KNN, TP_KNN = confusion_matrix(Y_test, Y_predict_KNN_Final).ravel()\n",
        "print(\"TN_KNN:\",TN_KNN)\n",
        "print(\"FP_KNN:\",FP_KNN)\n",
        "print(\"FN_KNN:\",FN_KNN)\n",
        "print(\"TP_KNN:\",TP_KNN)\n",
        "print(\"                                                                   \")\n",
        "\n",
        "if (FP_KNN+TN_KNN) > 0:\n",
        "        FPR_KNN=FP_KNN/(FP_KNN+TN_KNN)\n",
        "        print(\"The FPR_KNN result:\", FPR_KNN)\n",
        "            \n",
        "if (FP_KNN+TN_KNN) > 0:\n",
        "        TPR_KNN=TP_KNN/(TP_KNN+FN_KNN)\n",
        "        print(\"The TPR_KNN result:\", TPR_KNN)\n",
        "            \n",
        "if (TN_KNN+FP_KNN) > 0:\n",
        "    TNR_KNN=TN_KNN/(TN_KNN+FP_KNN)\n",
        "    print(\"The TNR_KNN result:\", TNR_KNN)\n",
        "            \n",
        "if (FN_KNN+TP_KNN) > 0:\n",
        "    FNR_KNN=FN_KNN/(FN_KNN+TP_KNN)\n",
        "    print(\"The FNR_KNN result:\", FNR_KNN)\n",
        "            \n",
        "if ((TN_KNN/(TN_KNN+FP_KNN))+(TP_KNN/(TP_KNN+FP_KNN))) > 0:\n",
        "    AUC_KNN=1/(2*((TN_KNN/(TN_KNN+FP_KNN))+(TP_KNN/(TP_KNN+FP_KNN))))\n",
        "    print(\"The AUC_KNN result:\", AUC_KNN)\n",
        "            \n",
        "if  (TP_KNN+TN_KNN+FP_KNN+FN_KNN) > 0:\n",
        "    ACC_KNN=(TP_KNN+TN_KNN)/(TP_KNN+TN_KNN+FP_KNN+FN_KNN)\n",
        "    print(\"The ACC_KNN result:\", ACC_KNN)\n",
        "            \n",
        "if  ((TP_KNN+FP_KNN)*(TP_KNN+FN_KNN)*(TN_KNN+FP_KNN)*(TN_KNN+FN_KNN)) > 0:\n",
        "    MCC_KNN=(TP_KNN*TN_KNN-FP_KNN*FN_KNN)/math.sqrt((TP_KNN+FP_KNN)*(TP_KNN+FN_KNN)*(TN_KNN+FP_KNN)*(TN_KNN+FN_KNN))\n",
        "    print(\"The Matthews correlation coefficient result:\", MCC_KNN)\n",
        "print(\"                                                                                                                               \")\n",
        "print(\"************************************************End of KNN Based Semi-Supervised Defense(KSD) part*****************************\")"
      ],
      "metadata": {
        "id": "-40FzS1WD2wx",
        "colab": {
          "base_uri": "https://localhost:8080/"
        },
        "outputId": "341e52fe-a89d-4f2b-e422-b5727d06c339"
      },
      "execution_count": null,
      "outputs": [
        {
          "output_type": "stream",
          "name": "stdout",
          "text": [
            "************************Result After KNN_Based Defense************************************************************************\n",
            "                                                                                                                               \n",
            "Accuracy for Train set: 96.053863\n",
            "Loss for Train set: 0.106215\n",
            "                                                                   \n",
            "Accuracy After KNN-Based Defense: 72.515714\n",
            "Loss After KNN-Based Defense: 5.564616\n",
            "                                                                   \n",
            "TN_KNN: 356366\n",
            "FP_KNN: 98098\n",
            "FN_KNN: 57504\n",
            "TP_KNN: 54181\n",
            "                                                                   \n",
            "The FPR_KNN result: 0.2158542810871708\n",
            "The TPR_KNN result: 0.4851233379594395\n",
            "The TNR_KNN result: 0.7841457189128291\n",
            "The FNR_KNN result: 0.5148766620405605\n",
            "The AUC_KNN result: 0.4386170429645779\n",
            "The ACC_KNN result: 0.7251571582745885\n",
            "The Matthews correlation coefficient result: 4.958982233531698\n",
            "                                                                                                                               \n",
            "************************************************End of KNN Based Semi-Supervised Defense(KSD) part*****************************\n"
          ]
        },
        {
          "output_type": "stream",
          "name": "stderr",
          "text": [
            "/usr/local/lib/python3.7/dist-packages/ipykernel_launcher.py:45: RuntimeWarning: overflow encountered in long_scalars\n",
            "/usr/local/lib/python3.7/dist-packages/ipykernel_launcher.py:46: RuntimeWarning: overflow encountered in long_scalars\n"
          ]
        }
      ]
    },
    {
      "cell_type": "code",
      "source": [
        ""
      ],
      "metadata": {
        "id": "Aw0rZVRPPrmp"
      },
      "execution_count": null,
      "outputs": []
    }
  ]
}