{
  "cells": [
    {
      "cell_type": "code",
      "execution_count": null,
      "metadata": {
        "colab": {
          "base_uri": "https://localhost:8080/"
        },
        "id": "1oYGYM_IG0OM",
        "outputId": "2fb3c7eb-78ee-4704-9249-04f83bb8ed4c"
      },
      "outputs": [
        {
          "output_type": "stream",
          "name": "stdout",
          "text": [
            "Collecting scikit-learn-intelex\n",
            "  Downloading scikit_learn_intelex-2021.5.3-py37-none-manylinux1_x86_64.whl (69 kB)\n",
            "\u001b[K     |████████████████████████████████| 69 kB 3.2 MB/s \n",
            "\u001b[?25hCollecting daal4py==2021.5.3\n",
            "  Downloading daal4py-2021.5.3-py37-none-manylinux1_x86_64.whl (22.5 MB)\n",
            "\u001b[K     |████████████████████████████████| 22.5 MB 1.2 MB/s \n",
            "\u001b[?25hRequirement already satisfied: scikit-learn>=0.22 in /usr/local/lib/python3.7/dist-packages (from scikit-learn-intelex) (1.0.2)\n",
            "Requirement already satisfied: numpy>=1.15 in /usr/local/lib/python3.7/dist-packages (from daal4py==2021.5.3->scikit-learn-intelex) (1.21.5)\n",
            "Collecting daal==2021.5.3\n",
            "  Downloading daal-2021.5.3-py2.py3-none-manylinux1_x86_64.whl (284.3 MB)\n",
            "\u001b[K     |████████████████████████████████| 284.3 MB 1.3 kB/s \n",
            "\u001b[?25hCollecting tbb==2021.*\n",
            "  Downloading tbb-2021.5.1-py2.py3-none-manylinux1_x86_64.whl (4.0 MB)\n",
            "\u001b[K     |████████████████████████████████| 4.0 MB 44.0 MB/s \n",
            "\u001b[?25hRequirement already satisfied: scipy>=1.1.0 in /usr/local/lib/python3.7/dist-packages (from scikit-learn>=0.22->scikit-learn-intelex) (1.4.1)\n",
            "Requirement already satisfied: joblib>=0.11 in /usr/local/lib/python3.7/dist-packages (from scikit-learn>=0.22->scikit-learn-intelex) (1.1.0)\n",
            "Requirement already satisfied: threadpoolctl>=2.0.0 in /usr/local/lib/python3.7/dist-packages (from scikit-learn>=0.22->scikit-learn-intelex) (3.1.0)\n",
            "Installing collected packages: tbb, daal, daal4py, scikit-learn-intelex\n",
            "Successfully installed daal-2021.5.3 daal4py-2021.5.3 scikit-learn-intelex-2021.5.3 tbb-2021.5.1\n",
            "Collecting catboost\n",
            "  Downloading catboost-1.0.4-cp37-none-manylinux1_x86_64.whl (76.1 MB)\n",
            "\u001b[K     |████████████████████████████████| 76.1 MB 103 kB/s \n",
            "\u001b[?25hRequirement already satisfied: six in /usr/local/lib/python3.7/dist-packages (from catboost) (1.15.0)\n",
            "Requirement already satisfied: graphviz in /usr/local/lib/python3.7/dist-packages (from catboost) (0.10.1)\n",
            "Requirement already satisfied: scipy in /usr/local/lib/python3.7/dist-packages (from catboost) (1.4.1)\n",
            "Requirement already satisfied: matplotlib in /usr/local/lib/python3.7/dist-packages (from catboost) (3.2.2)\n",
            "Requirement already satisfied: pandas>=0.24.0 in /usr/local/lib/python3.7/dist-packages (from catboost) (1.3.5)\n",
            "Requirement already satisfied: plotly in /usr/local/lib/python3.7/dist-packages (from catboost) (5.5.0)\n",
            "Requirement already satisfied: numpy>=1.16.0 in /usr/local/lib/python3.7/dist-packages (from catboost) (1.21.5)\n",
            "Requirement already satisfied: pytz>=2017.3 in /usr/local/lib/python3.7/dist-packages (from pandas>=0.24.0->catboost) (2018.9)\n",
            "Requirement already satisfied: python-dateutil>=2.7.3 in /usr/local/lib/python3.7/dist-packages (from pandas>=0.24.0->catboost) (2.8.2)\n",
            "Requirement already satisfied: kiwisolver>=1.0.1 in /usr/local/lib/python3.7/dist-packages (from matplotlib->catboost) (1.3.2)\n",
            "Requirement already satisfied: pyparsing!=2.0.4,!=2.1.2,!=2.1.6,>=2.0.1 in /usr/local/lib/python3.7/dist-packages (from matplotlib->catboost) (3.0.7)\n",
            "Requirement already satisfied: cycler>=0.10 in /usr/local/lib/python3.7/dist-packages (from matplotlib->catboost) (0.11.0)\n",
            "Requirement already satisfied: tenacity>=6.2.0 in /usr/local/lib/python3.7/dist-packages (from plotly->catboost) (8.0.1)\n",
            "Installing collected packages: catboost\n",
            "Successfully installed catboost-1.0.4\n",
            "Requirement already satisfied: xgboost in /usr/local/lib/python3.7/dist-packages (0.90)\n",
            "Requirement already satisfied: numpy in /usr/local/lib/python3.7/dist-packages (from xgboost) (1.21.5)\n",
            "Requirement already satisfied: scipy in /usr/local/lib/python3.7/dist-packages (from xgboost) (1.4.1)\n"
          ]
        }
      ],
      "source": [
        "!pip3 install scikit-learn-intelex\n",
        "!pip3 install catboost\n",
        "!pip3 install xgboost"
      ]
    },
    {
      "cell_type": "code",
      "execution_count": null,
      "metadata": {
        "colab": {
          "base_uri": "https://localhost:8080/"
        },
        "id": "KZYnqQR-IJ61",
        "outputId": "22256c4b-4845-43a0-d20d-e88353fb9cd2"
      },
      "outputs": [
        {
          "output_type": "stream",
          "name": "stderr",
          "text": [
            "Intel(R) Extension for Scikit-learn* enabled (https://github.com/intel/scikit-learn-intelex)\n"
          ]
        }
      ],
      "source": [
        "from sklearnex import patch_sklearn\n",
        "patch_sklearn()"
      ]
    },
    {
      "cell_type": "code",
      "execution_count": null,
      "metadata": {
        "id": "VzVbxCpOGfFw"
      },
      "outputs": [],
      "source": [
        "from __future__ import print_function\n",
        "from sklearn.feature_selection import SelectFromModel\n",
        "from sklearn.feature_selection import SelectKBest, f_regression\n",
        "from sklearn.model_selection import KFold\n",
        "from sklearn.model_selection import cross_val_score\n",
        "from sklearn.ensemble import RandomForestClassifier\n",
        "from sklearn.metrics import classification_report\n",
        "from sklearn.model_selection import train_test_split \n",
        "from sklearn.metrics import confusion_matrix\n",
        "from sklearn import model_selection\n",
        "from sklearn.feature_selection import RFE\n",
        "from sklearn.linear_model import LogisticRegression\n",
        "from sklearn.ensemble import ExtraTreesClassifier\n",
        "from sklearn.ensemble import RandomForestRegressor\n",
        "from scipy.sparse import csr_matrix, vstack, hstack\n",
        "from scipy.sparse import coo_matrix\n",
        "from keras.preprocessing.text import one_hot\n",
        "from sklearn import metrics\n",
        "from sklearn.metrics import silhouette_samples, silhouette_score\n",
        "from sklearn.semi_supervised import LabelPropagation\n",
        "from sklearn.semi_supervised import LabelSpreading\n",
        "from sklearn.metrics import roc_auc_score\n",
        "from sklearn.metrics import f1_score\n",
        "from sklearn.cluster import KMeans\n",
        "import math\n",
        "from keras.models import Sequential\n",
        "from keras.layers import Dense, Dropout, Activation , Flatten\n",
        "from sklearn.metrics import log_loss\n",
        "from tensorflow.keras.optimizers import SGD\n",
        "from tensorflow.keras.layers import BatchNormalization\n",
        "from tensorflow.keras.layers import UpSampling2D\n",
        "from tensorflow.keras.layers import Conv2D, MaxPooling2D, MaxPooling1D\n",
        "from tensorflow.keras.layers import Embedding\n",
        "import tensorflow as tf\n",
        "\n",
        "from scipy import sparse\n",
        "import pandas as pd\n",
        "import numpy as np\n",
        "\n",
        "import seaborn as sns\n",
        "import matplotlib.pyplot as plt\n",
        "from sklearn.metrics import PrecisionRecallDisplay\n",
        "\n",
        "import sklearn\n",
        "from sklearn.metrics.pairwise import manhattan_distances\n",
        "from keras.models import Model\n",
        "from keras.layers import  Conv1D, multiply, GlobalMaxPool1D, Input , Lambda\n",
        "import time\n",
        "import argparse\n",
        "\n",
        "from numpy import *\n",
        "import os.path as osp\n",
        "import scipy.sparse as sp\n",
        "import pickle\n",
        "from sklearn.metrics import accuracy_score\n",
        "from warnings import simplefilter\n",
        "\n",
        "from imblearn.over_sampling import SMOTE\n",
        "sm = SMOTE(random_state=42)\n",
        "\n",
        "np.random.seed(42)"
      ]
    },
    {
      "cell_type": "code",
      "source": [
        "from sklearn.metrics import precision_recall_curve\n",
        "def plot_conf_matrix(Y_val, Y_val_preds):\n",
        "    \"\"\"\n",
        "    Plots a nice looking confusion matrix using Seaborn's heatmap()\n",
        "    \"\"\"\n",
        "    sns.set(font_scale=1.5)\n",
        "    fig, ax = plt.subplots(figsize=(3,3))\n",
        "    ax = sns.heatmap(confusion_matrix(Y_val, Y_val_preds),\n",
        "                     annot=True,\n",
        "                     cbar=False,\n",
        "                     fmt='d')\n",
        "    plt.xlabel(\"Predicted Label\")\n",
        "    plt.ylabel(\"True Label\")"
      ],
      "metadata": {
        "id": "WYyZLXXBwwL6"
      },
      "execution_count": null,
      "outputs": []
    },
    {
      "cell_type": "code",
      "source": [
        "def plot_conf_matrix_from_matrix(cm, title):\n",
        "    \"\"\"\n",
        "    Plots a nice looking confusion matrix using Seaborn's heatmap()\n",
        "    \"\"\"\n",
        "    sns.set(font_scale=1.5)\n",
        "    fig, ax = plt.subplots(figsize=(3,3))\n",
        "    ax = sns.heatmap(cm,\n",
        "                     annot=True,\n",
        "                     cbar=False,\n",
        "                     fmt='d')\n",
        "    plt.title(label=title)\n",
        "    plt.xlabel(\"Predicted Label\")\n",
        "    plt.ylabel(\"True Label\")"
      ],
      "metadata": {
        "id": "TKuiHsDiw0nx"
      },
      "execution_count": null,
      "outputs": []
    },
    {
      "cell_type": "code",
      "execution_count": null,
      "metadata": {
        "id": "-iZsSqLlguuD"
      },
      "outputs": [],
      "source": [
        "def relevant_features(data, response_vector, features):\n",
        "    rel_features = list()\n",
        "    ranked_index=list()\n",
        "    \n",
        "    model = RandomForestRegressor()\n",
        "    #rfe = RFE(model, 1)\n",
        "    rfe = RFE(model, verbose=1)\n",
        "    fit = rfe.fit(data, response_vector)\n",
        "    old_features=features\n",
        "\n",
        "    for i in fit.ranking_:\n",
        "        if i<len(features):\n",
        "              rel_features.append(features[i])\n",
        "    #print('Relative features:', rel_features)\n",
        "    #print('Old features:', old_features)\n",
        "    # for x in rel_features:\n",
        "    #     if x in old_features:\n",
        "    #         print(x, ':', features.to_list().index(x))\n",
        "    ranked_index=[old_features.to_list().index(x) for x in rel_features if x in old_features]\n",
        "       \n",
        "    return rel_features ,ranked_index"
      ]
    },
    {
      "cell_type": "code",
      "execution_count": null,
      "metadata": {
        "id": "EJUhaRBwY0F_"
      },
      "outputs": [],
      "source": [
        "import pandas as pd\n",
        "# input_data = pd.read_csv('/content/drive/MyDrive/CICIDS/converted_poisoned_1_percent_sample.csv', index_col='Unnamed: 0')\n",
        "# input_data = pd.read_csv('/content/drive/MyDrive/CICIDS/Converted-Processed-CICIDS.csv', index_col='Unnamed: 0')\n",
        "\n",
        "input_tables = input_data.copy()\n",
        "input_tables.reset_index(inplace=True)\n",
        "input_tables.drop(['index'], axis=1, inplace=True)\n",
        "features = input_tables.columns"
      ]
    },
    {
      "cell_type": "code",
      "execution_count": null,
      "metadata": {
        "id": "CswJIVpFm6Or"
      },
      "outputs": [],
      "source": [
        "### Modifying labels to binary values\n",
        "dl = input_data.copy()\n",
        "for index, row in dl.iterrows():\n",
        "  if row['Label'] == 'BENIGN':\n",
        "    dl.at[index, 'Label'] = 0\n",
        "  else:\n",
        "    dl.at[index, 'Label'] = 1\n",
        "dl2 = dl['Label']\n",
        "dl2 = dl2.astype('int')"
      ]
    },
    {
      "cell_type": "code",
      "execution_count": null,
      "metadata": {
        "id": "xYmxbxY7G_xR"
      },
      "outputs": [],
      "source": [
        "### Saving\n",
        "data_filename = '/content/drive/MyDrive/Dissertation/gan_data.sav'\n",
        "pickle.dump(data, open(data_filename, 'wb'))\n",
        "dl2_filename = '/content/drive/MyDrive/Dissertation/gan_dl2_data.sav'\n",
        "pickle.dump(dl2, open(dl2_filename, 'wb'))"
      ]
    },
    {
      "cell_type": "code",
      "source": [
        "### Loading\n",
        "# data_filename = '/content/drive/MyDrive/Dissertation/gan_data.sav'\n",
        "# data = pickle.load(open(data_filename, 'rb'))\n",
        "# dl2_filename = '/content/drive/MyDrive/Dissertation/gan_dl2_data.sav'\n",
        "# dl2 = pickle.load(open(dl2_filename, 'rb'))"
      ],
      "metadata": {
        "id": "mO0TEFvKq1uV"
      },
      "execution_count": null,
      "outputs": []
    },
    {
      "cell_type": "code",
      "source": [
        "Scaling the data"
      ],
      "metadata": {
        "id": "brp_HU5g2Z_x"
      },
      "execution_count": null,
      "outputs": []
    },
    {
      "cell_type": "code",
      "execution_count": null,
      "metadata": {
        "id": "HkKLEzTg9llm"
      },
      "outputs": [],
      "source": [
        "from sklearn.preprocessing import StandardScaler\n",
        "from sklearn.preprocessing import MinMaxScaler\n",
        "# scaler = StandardScaler()\n",
        "scaler = MinMaxScaler()\n",
        "cols = data.select_dtypes(include=['float64','int64']).columns\n",
        "sc_data = scaler.fit_transform(data.select_dtypes(include=['float64','int64']))\n",
        "data = pd.DataFrame(sc_data, columns = cols)"
      ]
    },
    {
      "cell_type": "code",
      "source": [
        "data.columns[data.isnull().any()]"
      ],
      "metadata": {
        "id": "HEVPURi4BPgW"
      },
      "execution_count": null,
      "outputs": []
    },
    {
      "cell_type": "code",
      "execution_count": null,
      "metadata": {
        "id": "iIElOfJphIBk"
      },
      "outputs": [],
      "source": [
        "print(\"*****************************************************************************************\")\n",
        "print(\"********Using Benign Distribution + Random Forest Classifier + GAN countermeasure********\") \n",
        "print(\"*****************************************************************************************\")"
      ]
    },
    {
      "cell_type": "code",
      "execution_count": null,
      "metadata": {
        "id": "7mitsbAEhKeX"
      },
      "outputs": [],
      "source": [
        "### Commented out because completed\n",
        "#Doing feature Ranking on all of the Data\n",
        "print(\"************************Doing feature Ranking on all of the Data*************************\")\n",
        "t0=time.time()\n",
        "r_features, ranked_index = relevant_features(data, dl2, features)\n",
        "t1=time.time()\n",
        "print(\"Time of Feature Ranking=\",t1-t0)\n",
        "print(\"******************************************************************************************\")"
      ]
    },
    {
      "cell_type": "code",
      "execution_count": null,
      "metadata": {
        "id": "tOXu3mfVIV_a"
      },
      "outputs": [],
      "source": [
        "\n",
        "r_features_filename = '/content/drive/MyDrive/Dissertation/gan_r_features.sav'\n",
        "pickle.dump(r_features, open(r_features_filename, 'wb'))\n",
        "ranked_index_filename = '/content/drive/MyDrive/Dissertation/gan_ranked_index.sav'\n",
        "pickle.dump(ranked_index, open(ranked_index_filename, 'wb'))"
      ]
    },
    {
      "cell_type": "code",
      "source": [
        "r_features_filename = '/content/drive/MyDrive/Dissertation/gan_r_features.sav'\n",
        "r_features = pickle.load (open(r_features_filename, 'rb'))\n",
        "ranked_index_filename = '/content/drive/MyDrive/Dissertation/gan_ranked_index.sav'\n",
        "ranked_index = pickle.load(open(ranked_index_filename, 'rb'))"
      ],
      "metadata": {
        "id": "wynDWoCC-yEV"
      },
      "execution_count": null,
      "outputs": []
    },
    {
      "cell_type": "code",
      "execution_count": null,
      "metadata": {
        "id": "mV_OnNtVvb_B"
      },
      "outputs": [],
      "source": [
        "original_selected = ranked_index[1:69]"
      ]
    },
    {
      "cell_type": "code",
      "execution_count": null,
      "metadata": {
        "id": "khahzPh-hT-n"
      },
      "outputs": [],
      "source": [
        "seed = 10\n",
        "test_size = 0.2\n",
        "X_train, X_test, Y_train, Y_test = train_test_split(data, dl2, test_size=test_size, random_state=seed)\n",
        "test_size = 0.25\n",
        "X_train, X_val, Y_train, Y_val = train_test_split(X_train, Y_train, test_size=test_size, random_state=seed)\n",
        "X_train.columns=cols\n",
        "X_test.columns=cols\n",
        "X_val.columns=cols\n",
        "Y_train.columns='Label'\n",
        "Y_test.columns='Label'\n",
        "Y_val.columns='Label'"
      ]
    },
    {
      "cell_type": "code",
      "execution_count": null,
      "metadata": {
        "id": "fqMKYH33hV_g"
      },
      "outputs": [],
      "source": [
        "#**************************************************************************\n",
        "from sklearn import metrics\n",
        "from sklearn.svm import SVC\n",
        "from sklearn.naive_bayes import BernoulliNB \n",
        "from sklearn import tree\n",
        "from sklearn.model_selection import cross_val_score\n",
        "from sklearn.neighbors import KNeighborsClassifier\n",
        "from sklearn.linear_model import LogisticRegression\n",
        "from catboost import CatBoostClassifier\n",
        "from xgboost import XGBClassifier\n",
        "\n",
        "num_trees = 100\n",
        "max_features = 3\n",
        "kfold = KFold(n_splits=10, random_state=10, shuffle=True)\n",
        "RFC_Classifier = RandomForestClassifier(n_estimators=num_trees, max_features=max_features)\n",
        "\n",
        "#### Testing overfitting\n",
        "test_num_trees = 500\n",
        "# test_max_features = 5\n",
        "test_max_features = 'auto'\n",
        "test_max_depth = 8\n",
        "test_criterion = 'entropy'\n",
        "test_kfold = KFold(n_splits=10, random_state=10, shuffle=True)\n",
        "Test_RFC_Classifier = RandomForestClassifier(n_estimators=test_num_trees, max_features=test_max_features, max_depth=test_max_depth, criterion=test_criterion)\n",
        "### End of of testing overfitting\n",
        "\n",
        "cat_features = [0, 1]\n",
        "CB_Classifier = CatBoostClassifier(max_depth=5, \n",
        "                                n_estimators=300, \n",
        "                                learning_rate=1,\n",
        "                                logging_level='Silent')\n",
        "XGB_Classifier = XGBClassifier()\n",
        "BNB_Classifier = BernoulliNB()\n",
        "DTC_Classifier = tree.DecisionTreeClassifier(criterion='entropy', random_state=0)\n",
        "LGR_Classifier = LogisticRegression(n_jobs=-1, random_state=0)\n",
        "KNN_Classifier = KNeighborsClassifier(n_jobs=-1)\n",
        "\n",
        "models = []\n",
        "models.append(('Random Forest Classifier', RFC_Classifier))\n",
        "#models.append(('Tuned Random Forest Classifier', Test_RFC_Classifier))\n",
        "# models.append(('CatBoost Classifier', CB_Classifier))\n",
        "#models.append(('XGB Classifier', XGB_Classifier))\n",
        "#models.append(('Naive Baye Classifier', BNB_Classifier))\n",
        "#models.append(('Decision Tree Classifier', DTC_Classifier))\n",
        "#models.append(('Logistic Regression', LGR_Classifier))\n",
        "#models.append(('KNeighbors Classifier', KNN_Classifier))\n",
        "\n",
        "for i, v in models:\n",
        "    print()\n",
        "    print('============================== {} Model Fitting  =============================='.format(i))\n",
        "    print()\n",
        "    t0=time.time()\n",
        "    v = v.fit(X_train, Y_train)\n",
        "    t1=time.time()\n",
        "    print(\"Time for Fitting of {} =\".format(i), t1-t0)"
      ]
    },
    {
      "cell_type": "code",
      "source": [
        "models_filename = '/content/drive/MyDrive/Dissertation/gan_models.sav'\n",
        "pickle.dump(models, open(models_filename, 'wb'))"
      ],
      "metadata": {
        "id": "6Sg5s6v-zjvh"
      },
      "execution_count": null,
      "outputs": []
    },
    {
      "cell_type": "code",
      "source": [
        "# models_filename = '/content/drive/MyDrive/Dissertation/gan_models.sav'\n",
        "# models = pickle.load(open(models_filename, 'rb'))"
      ],
      "metadata": {
        "id": "3cMrCmgkE1Ov"
      },
      "execution_count": null,
      "outputs": []
    },
    {
      "cell_type": "code",
      "source": [
        "original_results = [{'Train accuracy': [], 'Test accuracy': [], 'Val accuracy': [], 'Test prediction': [], 'Val prediction': [], 'Train logarithmic loss': [], 'Test logarithmic loss': [], 'Val logarithmic loss': [], 'Train ROC curve': [], 'Train AUC curve': [], 'Test ROC curve': [], 'Test AUC curve': [], 'Val ROC curve': [], 'Val AUC curve': [], 'Confusion matrix': []}] # ,\n",
        "                    # {'Train accuracy': [], 'Test accuracy': [], 'Val accuracy': [], 'Test prediction': [], 'Val prediction': [], 'Train logarithmic loss': [], 'Test logarithmic loss': [], 'Val logarithmic loss': [], 'Train ROC curve': [], 'Train AUC curve': [], 'Test ROC curve': [], 'Test AUC curve': [], 'Val ROC curve': [], 'Val AUC curve': [], 'Confusion matrix': []}]\n",
        "\n"
      ],
      "metadata": {
        "id": "LA5PSvHa0gMb"
      },
      "execution_count": null,
      "outputs": []
    },
    {
      "cell_type": "code",
      "source": [
        "#### Fixing overfitting\n",
        "import matplotlib.pyplot as plt\n",
        "from sklearn.datasets import make_classification\n",
        "from sklearn.metrics import RocCurveDisplay\n",
        "\n",
        "results_count = 0\n",
        "\n",
        "for i, v in models:\n",
        "    t0=time.time()\n",
        "    print(\"************************************Result without attack for {}*******************************************************************************************\".format(i))\n",
        "    # Compute Classification Accuracy in train and test and Validation\n",
        "    #********************* Compute Classification Accuracy in train*********************************\n",
        "    scoring = 'accuracy'\n",
        "    results = model_selection.cross_val_score(v, X_train,Y_train, cv=kfold, scoring=scoring)\n",
        "    original_results[results_count]['Train accuracy'].append([i, results])\n",
        "    print((\"The accuracy of Classification in train: %.3f (%.3f)\") % (results.mean(), results.std()))\n",
        "    #********************* Compute Classification Accuracy in test*********************************\n",
        "    scoring = 'accuracy'\n",
        "    results = model_selection.cross_val_score(v, X_test, Y_test, cv=kfold, scoring=scoring)\n",
        "    original_results[results_count]['Test accuracy'].append([i, results])\n",
        "    print((\"The accuracy of Classification in test: %.3f (%.3f)\") % (results.mean(), results.std()))\n",
        "    #********************* Compute Classification Accuracy in validation***************************\n",
        "    scoring = 'accuracy'\n",
        "    results = model_selection.cross_val_score(v, X_val,Y_val, cv=kfold, scoring=scoring)\n",
        "    original_results[results_count]['Val accuracy'].append([i, results])\n",
        "    print((\"The accuracy of Classification in validation: %.3f (%.3f)\") % (results.mean(), results.std()))\n",
        "    #********************* Compute Classification Accuracy in test********************************\n",
        "    predictions = v.predict(X_test)\n",
        "    original_results[results_count]['Test prediction'].append([i, predictions])\n",
        "    print(\"classification_report by test:\")\n",
        "    print(classification_report(Y_test, predictions))\n",
        "    #********************* Compute Classification Accuracy in Validation***************************\n",
        "    predictions_val = v.predict(X_val)\n",
        "    original_results[results_count]['Val prediction'].append([i, predictions_val])\n",
        "    print(\"classification_report by validation:\")\n",
        "    print(classification_report(Y_val, predictions_val))\n",
        "    #********************* Compute Logarithmic Loss in Train*********************************\n",
        "    scoring = 'neg_log_loss'\n",
        "    results = model_selection.cross_val_score(v, X_train,Y_train, cv=kfold, scoring=scoring)\n",
        "    original_results[results_count]['Train logarithmic loss'].append([i, results])\n",
        "    print((\"The Loss of Classification in train data: %.3f (%.3f)\") % (results.mean(), results.std()))\n",
        "    #********************* Compute Logarithmic Loss in Test***********************************\n",
        "    scoring = 'neg_log_loss'\n",
        "    results = model_selection.cross_val_score(v, X_test,Y_test, cv=kfold, scoring=scoring)\n",
        "    original_results[results_count]['Test logarithmic loss'].append([i, results])\n",
        "    print((\"The Loss of Classification in test data:: %.3f (%.3f)\") % (results.mean(), results.std()))\n",
        "    #********************* Compute Logarithmic Loss in validation**************************** \n",
        "    scoring = 'neg_log_loss'\n",
        "    results = model_selection.cross_val_score(v, X_val,Y_val, cv=kfold, scoring=scoring)\n",
        "    original_results[results_count]['Val logarithmic loss'].append([i, results])\n",
        "    print((\"The Loss of Classification in validation data:: %.3f (%.3f)\") % (results.mean(), results.std()))\n",
        "    #********************* Compute Area Under ROC Curve in Train******************************\n",
        "    scoring = 'roc_auc'\n",
        "    results = model_selection.cross_val_score(v, X_train,Y_train, cv=kfold, scoring=scoring)\n",
        "    original_results[results_count]['Train ROC curve'].append([i, results])\n",
        "    print((\"The Area Under ROC Curve in Train: %.3f (%.3f)\") % (results.mean(), results.std()))\n",
        "    auc_curve = RocCurveDisplay.from_predictions(Y_train, Y_train)\n",
        "    original_results[results_count]['Train AUC curve'].append([i, auc_curve])\n",
        "    plt.show()\n",
        "    #********************* Compute Area Under ROC Curve in Test*******************************\n",
        "    scoring = 'roc_auc'\n",
        "    results = model_selection.cross_val_score(v, X_test,Y_test, cv=kfold, scoring=scoring)\n",
        "    original_results[results_count]['Test ROC curve'].append([i, results])\n",
        "    print((\"The Area Under ROC Curve in test: %.3f (%.3f)\") % (results.mean(), results.std()))\n",
        "    auc_curve = RocCurveDisplay.from_predictions(Y_test, predictions)\n",
        "    original_results[results_count]['Test AUC curve'].append([i, auc_curve])\n",
        "    plt.show()\n",
        "    #********************* Compute Area Under ROC Curve in Validation*************************\n",
        "    scoring = 'roc_auc'\n",
        "    results = model_selection.cross_val_score(v, X_val,Y_val, cv=kfold, scoring=scoring)\n",
        "    original_results[results_count]['Val ROC curve'].append([i, results])\n",
        "    print((\"The Area Under ROC Curve in Validation: %.3f (%.3f)\") % (results.mean(), results.std()))\n",
        "    auc_curve = RocCurveDisplay.from_predictions(Y_val, predictions_val)\n",
        "    original_results[results_count]['Val AUC curve'].append([i, auc_curve])\n",
        "    plt.show()\n",
        "    #*****************************Compute FPR and TPR in Validation**************************\n",
        "    cm=confusion_matrix(Y_test, predictions)\n",
        "    original_results[results_count]['Confusion matrix'].append([i, cm])\n",
        "    print(\"confusion_matrix:\")\n",
        "    print(cm)\n",
        "    TP=cm[0][0]\n",
        "    print(\"TP:\",TP)\n",
        "    FP=cm[0][1]\n",
        "    print(\"FP:\",FP)\n",
        "    FN=cm[1][0]\n",
        "    print(\"FN:\",FN)\n",
        "    TN=cm[1][1]\n",
        "    print(\"TN:\",TN)\n",
        "    FPR=FP/(FP+TN)\n",
        "    print(\"The FPR result:\", FPR)\n",
        "    TPR=TP/(TP+FN)\n",
        "    print(\"The TPR result:\", TPR)\n",
        "\n",
        "    TNR=TN/(TN+FP)\n",
        "    print(\"The TNR result:\", TNR)\n",
        "\n",
        "    FNR=FN/(FN+TP)\n",
        "    print(\"The FNR result:\", FNR)\n",
        "\n",
        "    AUC=1/(2*((TN/(TN+FP))+(TP/(TP+FP))))\n",
        "    print(\"The AUC result:\", AUC)\n",
        "\n",
        "    ACC=(TP+TN)/(TP+TN+FP+FN)\n",
        "    print(\"The ACC result:\", ACC)\n",
        "\n",
        "    #MCC=(TP*TN-FP*FN)/math.sqrt((TP+FP)*(TP+FN)*(TN+FP)*(TN+FN))\n",
        "    #print(\"The Matthews correlation coefficient result=\", MCC)\n",
        "\n",
        "    t1=time.time()\n",
        "    print()\n",
        "    print(\"Time for gathering information for {} :\".format(i), t1-t0)\n",
        "    print()\n",
        "    print(\"*******************************End of Result without attack for {}*****************************************************************************************\".format(i))\n",
        "    print()\n",
        "    #*************************************************************************************************************************************************************\n",
        "    results_count = results_count + 1"
      ],
      "metadata": {
        "id": "2g71jNpBPqm_"
      },
      "execution_count": null,
      "outputs": []
    },
    {
      "cell_type": "code",
      "source": [
        "### Saving\n",
        "original_results_filename = '/content/drive/MyDrive/Dissertation/original_results.sav'\n",
        "pickle.dump(original_results, open(original_results_filename, 'wb'))"
      ],
      "metadata": {
        "id": "15jsRwaSNaW0"
      },
      "execution_count": null,
      "outputs": []
    },
    {
      "cell_type": "code",
      "source": [
        "### Loading\n",
        "# original_results_filename = '/content/drive/MyDrive/Dissertation/original_results.sav'\n",
        "# original_results = pickle.load(open(original_results_filename, 'rb'))"
      ],
      "metadata": {
        "id": "5Wpg9MP3DlPw"
      },
      "execution_count": null,
      "outputs": []
    },
    {
      "cell_type": "code",
      "source": [
        "Saving\n",
        "X_train_filename = '/content/drive/MyDrive/Dissertation/gan_X_train.sav'\n",
        "pickle.dump(X_train, open(X_train_filename, 'wb'))\n",
        "X_test_filename = '/content/drive/MyDrive/Dissertation/gan_X_test.sav'\n",
        "pickle.dump(X_test, open(X_test_filename, 'wb'))\n",
        "X_val_filename = '/content/drive/MyDrive/Dissertation/gan_X_val.sav'\n",
        "pickle.dump(X_val, open(X_val_filename, 'wb'))\n",
        "Y_train_filename = '/content/drive/MyDrive/Dissertation/gan_Y_train.sav'\n",
        "pickle.dump(Y_train, open(Y_train_filename, 'wb'))\n",
        "Y_test_filename = '/content/drive/MyDrive/Dissertation/gan_Y_test.sav'\n",
        "pickle.dump(Y_test, open(Y_test_filename, 'wb'))\n",
        "Y_val_filename = '/content/drive/MyDrive/Dissertation/gan_Y_val.sav'\n",
        "pickle.dump(Y_val, open(Y_val_filename, 'wb'))"
      ],
      "metadata": {
        "id": "Ipjcg4eWtp7F"
      },
      "execution_count": null,
      "outputs": []
    },
    {
      "cell_type": "code",
      "source": [
        "### Loading\n",
        "# X_train_filename = '/content/drive/MyDrive/Dissertation/gan_X_train.sav'\n",
        "# X_train = pickle.load(open(X_train_filename, 'rb'))\n",
        "# X_test_filename = '/content/drive/MyDrive/Dissertation/gan_X_test.sav'\n",
        "# X_test = pickle.load(open(X_test_filename, 'rb'))\n",
        "# X_val_filename = '/content/drive/MyDrive/Dissertation/gan_X_val.sav'\n",
        "# X_val = pickle.load(open(X_val_filename, 'rb'))\n",
        "# Y_train_filename = '/content/drive/MyDrive/Dissertation/gan_Y_train.sav'\n",
        "# Y_train = pickle.load(open(Y_train_filename, 'rb'))\n",
        "# Y_test_filename = '/content/drive/MyDrive/Dissertation/gan_Y_test.sav'\n",
        "# Y_test = pickle.load(open(Y_test_filename, 'rb'))\n",
        "# Y_val_filename = '/content/drive/MyDrive/Dissertation/gan_Y_val.sav'\n",
        "# Y_val = pickle.load(open(Y_val_filename, 'rb'))\n",
        "\n"
      ],
      "metadata": {
        "id": "q-EwJv8t2eSy"
      },
      "execution_count": null,
      "outputs": []
    },
    {
      "cell_type": "code",
      "source": [
        "##### NEW CONVERSION - Finding Malware of test data\n",
        "t0=time.time()\n",
        "malware_test= X_test.copy(deep=True)\n",
        "cl_malware=list()\n",
        "z_m=0    \n",
        "count_m=0\n",
        "drop_list = []\n",
        "for i, j in enumerate(Y_test):\n",
        "    if j == 1:\n",
        "    # if j == 0:\n",
        "        drop_list.append(X_test.index[i])\n",
        "        count_m=count_m+1\n",
        "    else:\n",
        "        cl_malware.insert(z_m, 1)\n",
        "        z_m=z_m+1\n",
        "drop_list.sort(reverse=True)\n",
        "malware_test.drop(drop_list, inplace=True)\n",
        "t1=time.time()\n",
        "print(\"Time of Feature Ranking=\",t1-t0)"
      ],
      "metadata": {
        "id": "UYaMSuyjD-SM",
        "colab": {
          "base_uri": "https://localhost:8080/"
        },
        "outputId": "29011fe4-6627-493c-8cb3-d9a51fb74814"
      },
      "execution_count": null,
      "outputs": [
        {
          "output_type": "stream",
          "name": "stdout",
          "text": [
            "Time of Feature Ranking= 0.5988039970397949\n"
          ]
        }
      ]
    },
    {
      "cell_type": "code",
      "execution_count": null,
      "metadata": {
        "id": "VC1JvJ6OD2tj"
      },
      "outputs": [],
      "source": [
        "cl_malware_test_filename = '/content/drive/MyDrive/Dissertation/new/gan_cl_malware_test.sav'\n",
        "pickle.dump(cl_malware, open(cl_malware_test_filename, 'wb'))\n",
        "malware_test_filename = '/content/drive/MyDrive/Dissertation/new/gan_malware_test.sav'\n",
        "pickle.dump(malware_test, open(malware_test_filename, 'wb'))"
      ]
    },
    {
      "cell_type": "code",
      "source": [
        "# cl_malware_test_filename = '/content/drive/MyDrive/Dissertation/gan_cl_malware_test.sav'\n",
        "# cl_malware = pickle.load(open(cl_malware_test_filename, 'rb'))\n",
        "# malware_test_filename = malware_test_filename = '/content/drive/MyDrive/Dissertation/new/gan_malware_test.sav'\n",
        "# malware_test = pickle.load(malware_test, open(malware_test_filename, 'rb'))"
      ],
      "metadata": {
        "id": "6rKRg5p12XBM"
      },
      "execution_count": null,
      "outputs": []
    },
    {
      "cell_type": "code",
      "source": [
        "##### New CONVERTED - Finding Benign of test data\n",
        "t0=time.time()\n",
        "benign_test= X_test.copy(deep=True)\n",
        "cl_benign=list()\n",
        "z_b=0    \n",
        "count_b=0\n",
        "drop_list = []\n",
        "for i, j in enumerate(Y_test):\n",
        "    if j == 0:\n",
        "    # if j == 1:\n",
        "        drop_list.append(X_test.index[i])\n",
        "        count_b=count_b+1\n",
        "    else:\n",
        "        cl_benign.insert(z_b, 1)\n",
        "        z_b=z_b+1\n",
        "drop_list.sort(reverse=True)\n",
        "benign_test.drop(drop_list, inplace=True)\n",
        "t1=time.time()\n",
        "print(\"Time of Feature Ranking=\",t1-t0)\n",
        "#**************************\n",
        "# print(type(X_test))\n",
        "# print(X_test.shape)\n",
        "# print(len(cl_benign))\n",
        "# print(benign_test.shape)\n",
        "# print(z_b)\n",
        "# print(count_b)"
      ],
      "metadata": {
        "id": "Nv-qpxrMJ2_t",
        "colab": {
          "base_uri": "https://localhost:8080/"
        },
        "outputId": "7702c485-50f6-4959-93b3-1b6c8c5e61c6"
      },
      "execution_count": null,
      "outputs": [
        {
          "output_type": "stream",
          "name": "stdout",
          "text": [
            "Time of Feature Ranking= 1.132333755493164\n"
          ]
        }
      ]
    },
    {
      "cell_type": "code",
      "execution_count": null,
      "metadata": {
        "id": "S_UmNKDbE17B"
      },
      "outputs": [],
      "source": [
        "cl_benign_test_filename = '/content/drive/MyDrive/Dissertation/new/gan_cl_benign_test.sav'\n",
        "pickle.dump(cl_benign, open(cl_benign_test_filename, 'wb'))\n",
        "benign_test_filename = '/content/drive/MyDrive/Dissertation/new/gan_benign_test.sav'\n",
        "pickle.dump(benign_test, open(benign_test_filename, 'wb'))"
      ]
    },
    {
      "cell_type": "code",
      "source": [
        "# cl_benign_test_filename = '/content/drive/MyDrive/Dissertation/gan_cl_benign_test.sav'\n",
        "# cl_benign = pickle.load(open(cl_benign_test_filename, 'rb'))\n",
        "# gan_benign_test_filename = '/content/drive/MyDrive/Dissertation/gan_benign_test.sav'\n",
        "# benign_test = pickle.load(open(gan_benign_test_filename, 'rb'))"
      ],
      "metadata": {
        "id": "iNloFUKR2O7Z"
      },
      "execution_count": null,
      "outputs": []
    },
    {
      "cell_type": "code",
      "execution_count": null,
      "metadata": {
        "id": "-n2Yx1-eJH8f"
      },
      "outputs": [],
      "source": [
        "#### New CONVERTED - Finding Malware of Train data\n",
        "t0 = time.time()\n",
        "malware_train = X_train.copy(deep=True)\n",
        "y_malware_train = Y_train.copy(deep=True)\n",
        "cl_malware = list()\n",
        "z_m = 0\n",
        "count_m = 0\n",
        "drop_list = []\n",
        "for i, j in enumerate(Y_train):\n",
        "#       if j == 1:\n",
        "      if j == 0:\n",
        "        # malware_train.drop(X_train.index[i], inplace=True)\n",
        "        # drop_list.append(X_train.index[i])\n",
        "        count_m = count_m+1\n",
        "      else:\n",
        "        cl_malware.insert(z_m, 1)\n",
        "        z_m = z_m+1\n",
        "drop_list.sort(reverse=True)\n",
        "malware_train.drop(drop_list, inplace=True)\n",
        "y_malware_train.drop(drop_list, inplace=True)\n",
        "t1 = time.time()\n",
        "print(\"Time of splitting malicious train data:\",t1-t0)\n",
        "#***************************"
      ]
    },
    {
      "cell_type": "code",
      "execution_count": null,
      "metadata": {
        "id": "Kv8LdtNkFFj2"
      },
      "outputs": [],
      "source": [
        "cl_malware_train_filename = '/content/drive/MyDrive/Dissertation/new/gan_cl_malware_train.sav'\n",
        "pickle.dump(cl_malware, open(cl_malware_train_filename, 'wb'))\n",
        "malware_train_filename = '/content/drive/MyDrive/Dissertation/new/gan_malware_train.sav'\n",
        "pickle.dump(malware_train, open(malware_train_filename, 'wb'))"
      ]
    },
    {
      "cell_type": "code",
      "source": [
        "# cl_malware_train_filename = '/content/drive/MyDrive/Dissertation/new/gan_cl_malware_train.sav'\n",
        "# pickle.load(cl_malware, open(cl_malware_train_filename, 'rb'))\n",
        "# cl_malware_train_filename = '/content/drive/MyDrive/Dissertation/new/gan_cl_malware_train.sav'\n",
        "# malware_train # pickle.load(open(malware_train_filename, 'rb'))"
      ],
      "metadata": {
        "id": "K0ihyI2ZEYF_"
      },
      "execution_count": null,
      "outputs": []
    },
    {
      "cell_type": "code",
      "execution_count": null,
      "metadata": {
        "id": "tXgsF3o_JtTE"
      },
      "outputs": [],
      "source": [
        "### New CONVERTED - Finding Benign of Train data\n",
        "t0=time.time()\n",
        "benign_train = X_train.copy(deep=True)\n",
        "z_b=0    \n",
        "count_b=0\n",
        "drop_list = []\n",
        "cl_benign_train=list()\n",
        "for i, j in enumerate(Y_train):\n",
        "    if j == 0:\n",
        "    # if j == 1:\n",
        "        drop_list.append(X_train.index[i])\n",
        "        count_b=count_b+1\n",
        "    else:\n",
        "        cl_benign_train.insert(z_b, 1)\n",
        "        z_b=z_b+1\n",
        "drop_list.sort(reverse=True)\n",
        "benign_train.drop(drop_list, inplace=True)\n",
        "t1=time.time()\n",
        "#***************************\n"
      ]
    },
    {
      "cell_type": "code",
      "execution_count": null,
      "metadata": {
        "id": "RAvmQl1tFBQ_"
      },
      "outputs": [],
      "source": [
        "cl_benign_train_filename = '/content/drive/MyDrive/Dissertation/new/gan_cl_benign_train.sav'\n",
        "pickle.dump(cl_benign, open(cl_benign_train_filename, 'wb'))\n",
        "benign_train_filename = '/content/drive/MyDrive/Dissertation/new/gan_benign_train.sav'\n",
        "pickle.dump(benign_train, open(benign_train_filename, 'wb'))"
      ]
    },
    {
      "cell_type": "code",
      "source": [
        "# cl_benign_train_filename = '/content/drive/MyDrive/Dissertation/new/gan_cl_benign_train.sav'\n",
        "# pickle.dump(cl_benign, open(cl_benign_train_filename, 'rb'))\n",
        "# gan_cl_benign_train_filename = '/content/drive/MyDrive/Dissertation/new/gan_cl_benign_train.sav'\n",
        "# pickle.dump(cl_benign, open(gan_cl_benign_train, 'rb'))"
      ],
      "metadata": {
        "id": "rpnX68bJEpW4"
      },
      "execution_count": null,
      "outputs": []
    },
    {
      "cell_type": "code",
      "execution_count": null,
      "metadata": {
        "id": "TL2nYh3TMQYx",
        "colab": {
          "base_uri": "https://localhost:8080/"
        },
        "outputId": "d41d818f-6823-46a0-af40-84a7771e43a0"
      },
      "outputs": [
        {
          "output_type": "stream",
          "name": "stdout",
          "text": [
            "***********Size of Each Data Part:**********\n",
            "X_train: (1698445, 69)\n",
            "malware_train: (1363891, 69)\n",
            "benign_train: (334554, 69)\n",
            "Total train rows: 1698445\n",
            "X_test: (566149, 69)\n",
            "malware_test: (454464, 69)\n",
            "benign_test: (111685, 69)\n",
            "Total test rows: 566149\n"
          ]
        }
      ],
      "source": [
        "print(\"***********Size of Each Data Part:**********\")   \n",
        "print(\"X_train:\", X_train.shape)\n",
        "print(\"malware_train:\", malware_train.shape)\n",
        "print(\"benign_train:\", benign_train.shape)\n",
        "m_fix_row, m_fix_cols = malware_train.shape\n",
        "b_fix_row, b_fix_cols = benign_train.shape\n",
        "print(\"Total train rows:\", (m_fix_row + b_fix_row))\n",
        "print(\"X_test:\", X_test.shape)\n",
        "print(\"malware_test:\", malware_test.shape)\n",
        "print(\"benign_test:\", benign_test.shape)\n",
        "m_fix_row, m_fix_cols = malware_test.shape\n",
        "b_fix_row, b_fix_cols = benign_test.shape\n",
        "print(\"Total test rows:\", (m_fix_row + b_fix_row))\n",
        "#***************************************************"
      ]
    },
    {
      "cell_type": "code",
      "execution_count": null,
      "metadata": {
        "id": "VoU_1zWniMVf",
        "colab": {
          "base_uri": "https://localhost:8080/"
        },
        "outputId": "5cd92236-51c3-4067-ad47-cd6f18283b0d"
      },
      "outputs": [
        {
          "output_type": "stream",
          "name": "stdout",
          "text": [
            "Fitting estimator with 69 features.\n",
            "Fitting estimator with 68 features.\n",
            "Fitting estimator with 67 features.\n",
            "Fitting estimator with 66 features.\n",
            "Fitting estimator with 65 features.\n",
            "Fitting estimator with 64 features.\n",
            "Fitting estimator with 63 features.\n",
            "Fitting estimator with 62 features.\n",
            "Fitting estimator with 61 features.\n",
            "Fitting estimator with 60 features.\n",
            "Fitting estimator with 59 features.\n",
            "Fitting estimator with 58 features.\n",
            "Fitting estimator with 57 features.\n",
            "Fitting estimator with 56 features.\n",
            "Fitting estimator with 55 features.\n",
            "Fitting estimator with 54 features.\n",
            "Fitting estimator with 53 features.\n",
            "Fitting estimator with 52 features.\n",
            "Fitting estimator with 51 features.\n",
            "Fitting estimator with 50 features.\n",
            "Fitting estimator with 49 features.\n",
            "Fitting estimator with 48 features.\n",
            "Fitting estimator with 47 features.\n",
            "Fitting estimator with 46 features.\n",
            "Fitting estimator with 45 features.\n",
            "Fitting estimator with 44 features.\n",
            "Fitting estimator with 43 features.\n",
            "Fitting estimator with 42 features.\n",
            "Fitting estimator with 41 features.\n",
            "Fitting estimator with 40 features.\n",
            "Fitting estimator with 39 features.\n",
            "Fitting estimator with 38 features.\n",
            "Fitting estimator with 37 features.\n",
            "Fitting estimator with 36 features.\n",
            "Fitting estimator with 35 features.\n",
            "Time for Ranking benign_train to find important features = 42.916654109954834\n"
          ]
        }
      ],
      "source": [
        "t0=time.time()\n",
        "ranked_features_in_benign,ranked_index_of_benign = relevant_features(benign_train,cl_benign_train, features)  \n",
        "t1=time.time()\n",
        "print(\"Time for Ranking benign_train to find important features =\",t1-t0)\n",
        "#***************************************************************************************************************************************************************"
      ]
    },
    {
      "cell_type": "code",
      "execution_count": null,
      "metadata": {
        "id": "wb9bjyzGiPZA"
      },
      "outputs": [],
      "source": [
        "numbers=list()\n",
        "#numbers=[3,6,9,12,15,18,21,24,27,30,60]\n",
        "numbers=[60]"
      ]
    },
    {
      "cell_type": "code",
      "source": [
        "# data_results = [{'Poisoned percent': 0.05, 'Poisoned classification accuracy': [], 'Poisoned predictions': [], 'Poisoned classification report': [], 'Poisoned logarithmic loss': [], 'Poisoned ROC AUC': [], 'Poisoned AUC curve': [], 'Poisoned precision curve': [], 'Poisoned confusion matrix': [], 'Poisoned logistic regression accuracy train': [], 'Poisoned logistic regression accuracy val': [], 'Poisoned logistic regression accuracy test': [], 'Cleaned classification accuracy': [], 'Cleaned X_test data': [], 'Cleaned Y_test data': [], 'Cleaned predictions': [], 'Cleaned classification report': [], 'Cleaned logarithmic loss': [], 'Cleaned ROC AUC': [], 'Cleaned AUC curve': [], 'Cleaned precision curve': [], 'Cleaned confusion matrix': [], 'Cleaned model': []}, \n",
        "#                 {'Poisoned percent': 0.10, 'Poisoned classification accuracy': [], 'Poisoned predictions': [], 'Poisoned classification report': [], 'Poisoned logarithmic loss': [], 'Poisoned ROC AUC': [], 'Poisoned AUC curve': [], 'Poisoned precision curve': [], 'Poisoned confusion matrix': [], 'Poisoned logistic regression accuracy train': [], 'Poisoned logistic regression accuracy val': [], 'Poisoned logistic regression accuracy test': [], 'Cleaned classification accuracy': [], 'Cleaned X_test data': [], 'Cleaned Y_test data': [], 'Cleaned predictions': [], 'Cleaned classification report': [], 'Cleaned logarithmic loss': [], 'Cleaned ROC AUC': [], 'Cleaned AUC curve': [], 'Cleaned precision curve': [], 'Cleaned confusion matrix': [], 'Cleaned model': []}, \n",
        "#                 {'Poisoned percent': 0.15, 'Poisoned classification accuracy': [], 'Poisoned predictions': [], 'Poisoned classification report': [], 'Poisoned logarithmic loss': [], 'Poisoned ROC AUC': [], 'Poisoned AUC curve': [], 'Poisoned precision curve': [], 'Poisoned confusion matrix': [], 'Poisoned logistic regression accuracy train': [], 'Poisoned logistic regression accuracy val': [], 'Poisoned logistic regression accuracy test': [], 'Cleaned classification accuracy': [], 'Cleaned X_test data': [], 'Cleaned Y_test data': [], 'Cleaned predictions': [], 'Cleaned classification report': [], 'Cleaned logarithmic loss': [], 'Cleaned ROC AUC': [], 'Cleaned AUC curve': [], 'Cleaned precision curve': [], 'Cleaned confusion matrix': [], 'Cleaned model': []}, \n",
        "#                 {'Poisoned percent': 0.20, 'Poisoned classification accuracy': [], 'Poisoned predictions': [], 'Poisoned classification report': [], 'Poisoned logarithmic loss': [], 'Poisoned ROC AUC': [], 'Poisoned AUC curve': [], 'Poisoned precision curve': [], 'Poisoned confusion matrix': [], 'Poisoned logistic regression accuracy train': [], 'Poisoned logistic regression accuracy val': [], 'Poisoned logistic regression accuracy test': [], 'Cleaned classification accuracy': [], 'Cleaned X_test data': [], 'Cleaned Y_test data': [], 'Cleaned predictions': [], 'Cleaned classification report': [], 'Cleaned logarithmic loss': [], 'Cleaned ROC AUC': [], 'Cleaned AUC curve': [], 'Cleaned precision curve': [], 'Cleaned confusion matrix': [], 'Cleaned model': []}, \n",
        "#                 {'Poisoned percent': 0.25, 'Poisoned classification accuracy': [], 'Poisoned predictions': [], 'Poisoned classification report': [], 'Poisoned logarithmic loss': [], 'Poisoned ROC AUC': [], 'Poisoned AUC curve': [], 'Poisoned precision curve': [], 'Poisoned confusion matrix': [], 'Poisoned logistic regression accuracy train': [], 'Poisoned logistic regression accuracy val': [], 'Poisoned logistic regression accuracy test': [], 'Cleaned classification accuracy': [], 'Cleaned X_test data': [], 'Cleaned Y_test data': [], 'Cleaned predictions': [], 'Cleaned classification report': [], 'Cleaned logarithmic loss': [], 'Cleaned ROC AUC': [], 'Cleaned AUC curve': [], 'Cleaned precision curve': [], 'Cleaned confusion matrix': [], 'Cleaned model': []}]"
      ],
      "metadata": {
        "id": "hjqnV1Hzhyt3"
      },
      "execution_count": null,
      "outputs": []
    },
    {
      "cell_type": "code",
      "source": [
        "# data_results = [{'Poisoned percent': 0.05, 'Classifier': '', 'Poisoned classification accuracy': '', 'Poisoned predictions': '', 'Poisoned classification report': '', 'Poisoned logarithmic loss': '', 'Poisoned ROC AUC': '', 'Poisoned AUC curve': '', 'Poisoned precision curve': '', 'Poisoned confusion matrix': '', 'Poisoned logistic regression accuracy train': '', 'Poisoned logistic regression accuracy val': '', 'Poisoned logistic regression accuracy test': '', 'Cleaned classification accuracy': '', 'Cleaned X_test data': '', 'Cleaned Y_test data': '', 'Cleaned predictions': '', 'Cleaned classification report': '', 'Cleaned logarithmic loss': '', 'Cleaned ROC AUC': '', 'Cleaned AUC curve': '', 'Cleaned precision curve': '', 'Cleaned confusion matrix': ''}, \n",
        "#                 {'Poisoned percent': 0.10, 'Classifier': '', 'Poisoned classification accuracy': '', 'Poisoned predictions': '', 'Poisoned classification report': '', 'Poisoned logarithmic loss': '', 'Poisoned ROC AUC': '', 'Poisoned AUC curve': '', 'Poisoned precision curve': '', 'Poisoned confusion matrix': '', 'Poisoned logistic regression accuracy train': '', 'Poisoned logistic regression accuracy val': '', 'Poisoned logistic regression accuracy test': '', 'Cleaned classification accuracy': '', 'Cleaned X_test data': '', 'Cleaned Y_test data': '', 'Cleaned predictions': '', 'Cleaned classification report': '', 'Cleaned logarithmic loss': '', 'Cleaned ROC AUC': '', 'Cleaned AUC curve': '', 'Cleaned precision curve': '', 'Cleaned confusion matrix': ''}, \n",
        "#                 {'Poisoned percent': 0.15, 'Classifier': '', 'Poisoned classification accuracy': '', 'Poisoned predictions': '', 'Poisoned classification report': '', 'Poisoned logarithmic loss': '', 'Poisoned ROC AUC': '', 'Poisoned AUC curve': '', 'Poisoned precision curve': '', 'Poisoned confusion matrix': '', 'Poisoned logistic regression accuracy train': '', 'Poisoned logistic regression accuracy val': '', 'Poisoned logistic regression accuracy test': '', 'Cleaned classification accuracy': '', 'Cleaned X_test data': '', 'Cleaned Y_test data': '', 'Cleaned predictions': '', 'Cleaned classification report': '', 'Cleaned logarithmic loss': '', 'Cleaned ROC AUC': '', 'Cleaned AUC curve': '', 'Cleaned precision curve': '', 'Cleaned confusion matrix': ''}, \n",
        "#                 {'Poisoned percent': 0.20, 'Classifier': '', 'Poisoned classification accuracy': '', 'Poisoned predictions': '', 'Poisoned classification report': '', 'Poisoned logarithmic loss': '', 'Poisoned ROC AUC': '', 'Poisoned AUC curve': '', 'Poisoned precision curve': '', 'Poisoned confusion matrix': '', 'Poisoned logistic regression accuracy train': '', 'Poisoned logistic regression accuracy val': '', 'Poisoned logistic regression accuracy test': '', 'Cleaned classification accuracy': '', 'Cleaned X_test data': '', 'Cleaned Y_test data': '', 'Cleaned predictions': '', 'Cleaned classification report': '', 'Cleaned logarithmic loss': '', 'Cleaned ROC AUC': '', 'Cleaned AUC curve': '', 'Cleaned precision curve': '', 'Cleaned confusion matrix': ''}, \n",
        "#                 {'Poisoned percent': 0.25, 'Classifier': '', 'Poisoned classification accuracy': '', 'Poisoned predictions': '', 'Poisoned classification report': '', 'Poisoned logarithmic loss': '', 'Poisoned ROC AUC': '', 'Poisoned AUC curve': '', 'Poisoned precision curve': '', 'Poisoned confusion matrix': '', 'Poisoned logistic regression accuracy train': '', 'Poisoned logistic regression accuracy val': '', 'Poisoned logistic regression accuracy test': '', 'Cleaned classification accuracy': '', 'Cleaned X_test data': '', 'Cleaned Y_test data': '', 'Cleaned predictions': '', 'Cleaned classification report': '', 'Cleaned logarithmic loss': '', 'Cleaned ROC AUC': '', 'Cleaned AUC curve': '', 'Cleaned precision curve': '', 'Cleaned confusion matrix': ''}]"
      ],
      "metadata": {
        "id": "Fmubpg0O9O7E"
      },
      "execution_count": null,
      "outputs": []
    },
    {
      "cell_type": "code",
      "source": [
        "data_results = [{'Poisoned percent': 0.10, 'Poisoned classification accuracy': [], 'Poisoned predictions': [], 'Poisoned classification report': [], 'Poisoned logarithmic loss': [], 'Poisoned ROC AUC': [], 'Poisoned AUC curve': [], 'Poisoned precision curve': [], 'Poisoned confusion matrix': [], 'Poisoned logistic regression accuracy train': [], 'Poisoned logistic regression accuracy val': [], 'Poisoned logistic regression accuracy test': [], 'Cleaned classification accuracy': [], 'Cleaned X_test data': [], 'Cleaned Y_test data': [], 'Cleaned predictions': [], 'Cleaned classification report': [], 'Cleaned logarithmic loss': [], 'Cleaned ROC AUC': [], 'Cleaned AUC curve': [], 'Cleaned precision curve': [], 'Cleaned confusion matrix': [], 'Cleaned model': []}]"
      ],
      "metadata": {
        "id": "Ma2vWQ4SDLae"
      },
      "execution_count": null,
      "outputs": []
    },
    {
      "cell_type": "code",
      "source": [
        "kfold = KFold(n_splits=10, random_state=10, shuffle=True)\n",
        "from sklearn.datasets import make_classification\n",
        "from sklearn.metrics import RocCurveDisplay\n",
        "\n",
        "t10=time.time()\n",
        "for item in data_results:\n",
        "    print(\"*********************************************************************************\")\n",
        "    #print(\"Result related to loop number : \",loop)\n",
        "    print(\"Poisoning {}% of benign labels as malicious\".format(int(item['Poisoned percent']*100)))\n",
        "    \n",
        "    Malware_Test = malware_test.copy(deep=True)\n",
        "    Malware_Test.columns = cols\n",
        "    row_of_Malware, column_of_Malware = Malware_Test.shape\n",
        "    index_of_row = list(range(row_of_Malware))\n",
        "    random.shuffle(index_of_row)\n",
        "\n",
        "    number_of_row_to_change=int(int(row_of_Malware*item['Poisoned percent']))\n",
        "    selected_row=index_of_row[0:number_of_row_to_change]\n",
        "    \n",
        "    for i, v in enumerate(numbers):\n",
        "      for h, u in models:\n",
        "        #h = models[0][0]\n",
        "        model = u #models[0][1]\n",
        "        item['Classifier'] = h\n",
        "        print(\"*********************************************************************************\")\n",
        "        print(\"Model: {}\".format(h))\n",
        "        print(\"*********************************************************************************\")\n",
        "        print(\"*********************Selected features:\",int(v) )\n",
        "        print(\"******************************Result after attack *******************************\")\n",
        "        max_index_of_column=int(v)+1\n",
        "        t0=time.time()\n",
        "        rw_test,cl_test = X_test.shape\n",
        "        Malware_Test = malware_test.copy(deep=True)\n",
        "        Malware_Test.columns = cols\n",
        "\n",
        "        counter_of_poisoned_point=0\n",
        "        \n",
        "        for m, value in enumerate(selected_row):\n",
        "            flag=0\n",
        "            for i, j in enumerate(ranked_index_of_benign[1:max_index_of_column]):\n",
        "                for k, l in enumerate(original_selected):\n",
        "                    if j == l:\n",
        "                        Malware_Test.iloc[value, l] = np.float64(np.random.uniform(0, 1))\n",
        "            counter_of_poisoned_point = counter_of_poisoned_point + 1\n",
        "        \n",
        "        Benign_Test = benign_test.copy(deep=True)\n",
        "        Benign_Test.columns = cols\n",
        "        poison_data = pd.concat([Benign_Test, Malware_Test])\n",
        "        r,w=poison_data.shape\n",
        "        Y_test=Y_test[0:r]\n",
        "        \n",
        "        t1=time.time()                   \n",
        "        print(\"Time related to applying attack in this number of Features:\",t1-t0)\n",
        "        \n",
        "        print(\"Number of poisoned Malware:\", counter_of_poisoned_point)\n",
        "        #********************* Compute Classification Accuracy in test*********************************\n",
        "        scoring = 'accuracy'\n",
        "        results = model_selection.cross_val_score(model, poison_data,Y_test, cv=kfold, scoring=scoring)\n",
        "        print((\"The accuracy of Classification in test: %.3f (%.3f)\") % (results.mean(), results.std()))\n",
        "        item['Poisoned classification accuracy'].append([h, results])\n",
        "        #********************* Compute Classification Accuracy in train********************************\n",
        "        predictions = model.predict(poison_data)\n",
        "        item['Poisoned predictions'].append([h, predictions])\n",
        "        print(\"Classification_report by test:\")\n",
        "        cr = classification_report(Y_test, predictions)\n",
        "        print(cr)\n",
        "        #print(classification_report(Y_test, predictions))\n",
        "        item['Poisoned classification report'].append([h, cr])\n",
        "        #********************* Compute Logarithmic Loss in Test***********************************\n",
        "        scoring = 'neg_log_loss'\n",
        "        results = model_selection.cross_val_score(model, poison_data,Y_test, cv=kfold, scoring=scoring)\n",
        "        print((\"The Loss of Classification in test data:: %.3f (%.3f)\") % (results.mean(), results.std()))\n",
        "        item['Poisoned logarithmic loss'].append([h, results])\n",
        "        #********************* Compute Area Under ROC Curve in Test*******************************\n",
        "        scoring = 'roc_auc'\n",
        "        results = model_selection.cross_val_score(model, poison_data,Y_test, cv=kfold, scoring=scoring)\n",
        "        print((\"The Area Under ROC Curve in test: %.3f (%.3f)\") % (results.mean(), results.std()))\n",
        "        item['Poisoned ROC AUC'].append([h, results])\n",
        "        sns.set(font_scale=1)\n",
        "        auc_curve =  RocCurveDisplay.from_predictions(Y_test, predictions, name=h)\n",
        "        item['Poisoned AUC curve'].append([h, auc_curve])\n",
        "        plt.show()\n",
        "        precision_curve = PrecisionRecallDisplay.from_predictions(Y_test, predictions, name=h)\n",
        "        item['Poisoned precision curve'].append([h, precision_curve])\n",
        "        plt.show()\n",
        "        #*****************************Compute FPR and TPR in Validation**************************\n",
        "        cm=confusion_matrix(Y_test, predictions)\n",
        "        print(\"Confusion matrix:\")\n",
        "        print(cm)\n",
        "        item['Poisoned confusion matrix'].append([h, cm])\n",
        "        plot_conf_matrix_from_matrix(cm, h)\n",
        "        plt.show()\n",
        "        TP=cm[0][0]\n",
        "        print(\"TP:\",TP)\n",
        "        FP=cm[0][1]\n",
        "        print(\"FP:\",FP)\n",
        "        FN=cm[1][0]\n",
        "        print(\"FN:\",FN)\n",
        "        TN=cm[1][1]\n",
        "        print(\"TN:\",TN)\n",
        "        FPR=FP/(FP+TN)\n",
        "        print(\"The FPR result:\", FPR)\n",
        "        \n",
        "        TPR=TP/(TP+FN)\n",
        "        print(\"The TPR result:\", TPR)\n",
        "        \n",
        "        TNR=TN/(TN+FP)\n",
        "        print(\"The TNR result:\", TNR)\n",
        "        \n",
        "        FNR=FN/(FN+TP)\n",
        "        print(\"The FNR result:\", FNR)\n",
        "        \n",
        "        AUC=1/(2*((TN/(TN+FP))+(TP/(TP+FP))))\n",
        "        print(\"The AUC result:\", AUC)\n",
        "        \n",
        "        ACC=(TP+TN)/(TP+TN+FP+FN)\n",
        "        print(\"The ACC result:\", ACC)\n",
        "        \n",
        "        #MCC=(TP*TN-FP*FN)/math.sqrt((TP+FP)*(TP+FN)*(TN+FP)*(TN+FN))\n",
        "        #print(\"The Matthews correlation coefficient result=\", MCC)\n",
        "        \n",
        "        print(\"*********************************************************************************\")\n",
        "        print(\"*******************Result after applying GAN countermeasure**************\")\n",
        "        t0=time.time()\n",
        "\n",
        "        model2 = ExtraTreesClassifier(n_estimators=250,random_state=0)\n",
        "        model2.fit(benign_train, cl_benign_train)\n",
        "        importances = model2.feature_importances_\n",
        "        indices = np.argsort(importances)[::-1]        \n",
        "\n",
        "        importance_of_Features_in_benign_train=list()\n",
        "        for f in range(69):\n",
        "            importance_of_Features_in_benign_train.append(indices[f])\n",
        "\n",
        "        #******************************Running the Logistic Regression and finding Some Samples Near to Hyperplain*****************************\n",
        "        poison_model = LogisticRegression(max_iter=1000) \n",
        "        poison_model.fit(X_train,Y_train)\n",
        "        print(\"Result related to Logistic Regression:\")\n",
        "        scoring = 'accuracy'\n",
        "        poison_results = model_selection.cross_val_score(poison_model, X_train,Y_train, cv=kfold, scoring=scoring)\n",
        "        print((\"The accuracy of Classification in train: %.3f (%.3f)\") % (poison_results.mean(), poison_results.std()))\n",
        "        item['Poisoned logistic regression accuracy train'].append([h, poison_results])\n",
        "        #********************* Compute Logistic Regression Accuracy in validation without change ***************************\n",
        "        scoring = 'accuracy'\n",
        "        results = model_selection.cross_val_score(poison_model, X_val,Y_val, cv=kfold, scoring=scoring)\n",
        "        print((\"The accuracy of Classification in validation: %.3f (%.3f)\") % (poison_results.mean(), poison_results.std()))\n",
        "        item['Poisoned logistic regression accuracy val'].append([h, results])\n",
        "        #********************* Compute Logistic Regression Accuracy in test without change *********************************\n",
        "        scoring = 'accuracy'\n",
        "        results = model_selection.cross_val_score(poison_model, X_test,Y_test, cv=kfold, scoring=scoring)\n",
        "        print((\"The accuracy of Classification in test: %.3f (%.3f)\") % (poison_results.mean(), poison_results.std()))\n",
        "        item['Poisoned logistic regression accuracy test'].append([h, results])\n",
        "        #**********************Declaration of Variables for finding decision value *************\n",
        "        print(\"**************************************************************************************************\")           \n",
        "        temp = X_train.copy(deep=True)\n",
        "        temp.columns = cols\n",
        "        a,b = temp.shape\n",
        "        rows_to_delete = list()\n",
        "        decision_value=np.array([])\n",
        "        selected_cl_malware_train=list()\n",
        "        selected_malware_train = X_train.copy(deep=True)\n",
        "        #**********************Finding malware_train and related decision value **********************************\n",
        "        counter_of_malware_train=0\n",
        "        count_deleted=0\n",
        "        Y_train_list = Y_train.index.values.tolist()\n",
        "        for k, j in enumerate(Y_train_list):\n",
        "            row = pd.DataFrame([temp.iloc[k]])\n",
        "            if Y_train[j] == 0:\n",
        "                decision_value=np.append(decision_value,poison_model.decision_function(row))\n",
        "                selected_cl_malware_train.insert(counter_of_malware_train, 0)\n",
        "                counter_of_malware_train = counter_of_malware_train + 1\n",
        "            else:\n",
        "                rows_to_delete.append(selected_malware_train.index[k])\n",
        "                count_deleted = count_deleted + 1 \n",
        "        rows_to_delete.sort(reverse=True)\n",
        "        selected_malware_train.drop(rows_to_delete, inplace=True)\n",
        "        #**********************Sort the absolute value of decision value for malware_train*************************      \n",
        "        decision_value=np.absolute(decision_value)\n",
        "        indices=decision_value.argsort()\n",
        "            \n",
        "        #************** Declaration of Variables for selecting data*************************************************\n",
        "        number_of_row_malware_train, number_of_column_malware_train = malware_train.shape\n",
        "        number_of_row_selected_malware_train = int(row_of_Malware*item['Poisoned percent'])\n",
        "        \n",
        "        #****************Selecting index related to 10 percent of malware_train with minimum decision value*******\n",
        "        Selected_rows_as_less_likely=list()\n",
        "        Selected_rows_as_less_likely=indices[:number_of_row_selected_malware_train]\n",
        "\n",
        "        malware_train_to_poison = malware_train.copy(deep=True)\n",
        "        Malware_less_likely = pd.DataFrame(index=range(0), columns=cols)\n",
        "        cl_less_likely = list()\n",
        "        counter_for_cl_less_likely = 0            \n",
        "        for i, row_number in enumerate(Selected_rows_as_less_likely):\n",
        "            selected_row = pd.DataFrame([malware_train_to_poison.iloc[i]])\n",
        "            Malware_less_likely = pd.concat([selected_row, Malware_less_likely])\n",
        "            cl_less_likely.insert(counter_for_cl_less_likely, 0)\n",
        "            counter_for_cl_less_likely = counter_for_cl_less_likely + 1\n",
        "            \n",
        "        number_of_row_in_Malware_less_likely, number_of_column_in_Malware_less_likely = Malware_less_likely.shape\n",
        "        #****************Finding Benign like samples********************************************************************************\n",
        "        poisoned_data = pd.DataFrame(index=range(0),columns=cols)\n",
        "        c=0\n",
        "        Malware_less_likely.head()\n",
        "        for counter_of_Malware_less_likely in range(number_of_row_in_Malware_less_likely):\n",
        "            selected_sample = pd.DataFrame([Malware_less_likely.iloc[counter_of_Malware_less_likely]])\n",
        "            c=0\n",
        "            for S in range(number_of_column_in_Malware_less_likely):\n",
        "                    index_for_change=random.randint(0, number_of_column_in_Malware_less_likely - 1)\n",
        "                    selected_sample.iloc[0, index_for_change] = 1 - selected_sample.iloc[0, index_for_change]\n",
        "                    label = model.predict(selected_sample)\n",
        "                    if label == int(1):\n",
        "                        poisoned_data = pd.concat([selected_sample, poisoned_data])\n",
        "                        c = c + 1\n",
        "                        break       \n",
        "            \n",
        "        Number_of_row_in_poisoned_data, Number_of_column_in_poison_data = poisoned_data.shape\n",
        "        Y_poison = list()\n",
        "        for index in range(Number_of_row_in_poisoned_data):\n",
        "            Y_poison.append(0)\n",
        "        #***************************************************************************************************************************\n",
        "        \n",
        "        poisoned_data_X = poisoned_data.copy(deep=True)\n",
        "        poisoned_data_X.columns = cols\n",
        "\n",
        "        poisoned_data_Y = pd.DataFrame (Y_poison[:], columns = ['Label'])\n",
        "\n",
        "        second_test_set=0.2\n",
        "        seed = 10\n",
        "        X_poisoned_train, X_poisoned_test, Y_poisoned_train, Y_poisoned_test = train_test_split(poisoned_data_X, poisoned_data_Y, test_size=second_test_set, random_state=seed)\n",
        "        X_poisoned_train.columns = cols\n",
        "        X_poisoned_test.columns = cols\n",
        "\n",
        "        Y_poisoned_train = Y_poisoned_train.squeeze()\n",
        "        Y_poisoned_test = Y_poisoned_test.squeeze()\n",
        "\n",
        "        poison_data_for_retraining = pd.concat([X_train, X_poisoned_train])\n",
        "        poison_Class_for_retraining = pd.concat([Y_train, Y_poisoned_train])\n",
        "        poison_Class_for_retraining.columns = ['Label']\n",
        "        \n",
        "        num_trees = 100\n",
        "        max_features = 3\n",
        "        kfold = KFold(n_splits=10, random_state=10, shuffle=True)\n",
        "        model_for_counter_measure = u #models[0][1]\n",
        "        model_for_counter_measure.fit(poison_data_for_retraining, poison_Class_for_retraining)\n",
        "        item['Cleaned model'].append([h, model_for_counter_measure])\n",
        "        poison_data_for_test_after_retraining = pd.concat([X_test, X_poisoned_test])\n",
        "        poison_Class_for_test_after_retraining= pd.concat([Y_test, Y_poisoned_test])\n",
        "        poison_Class_for_test_after_retraining.columns = ['Label']\n",
        "\n",
        "        t1=time.time()\n",
        "        print(\"Time related to applying GAN countermeasure in this number of Features:\", t1-t0)\n",
        "        #********************* Compute Classification Accuracy in test*********************************\n",
        "        scoring = 'accuracy'\n",
        "        results = model_selection.cross_val_score(model_for_counter_measure, poison_data_for_test_after_retraining,poison_Class_for_test_after_retraining, cv=kfold, scoring=scoring)\n",
        "        print((\"The accuracy of Classification in test: %.3f (%.3f)\") % (results.mean(), results.std()))\n",
        "        item['Cleaned classification accuracy'].append([h, results])\n",
        "        #********************* Compute Classification Accuracy in train********************************\n",
        "        predictions = model.predict(poison_data_for_test_after_retraining)\n",
        "        item['Cleaned X_test data'].append([h, poison_data_for_test_after_retraining])\n",
        "        item['Cleaned Y_test data'].append([h, poison_Class_for_test_after_retraining])\n",
        "        item['Cleaned predictions'].append([h, predictions])\n",
        "        print(\"classification_report by test:\")\n",
        "        cr = classification_report(poison_Class_for_test_after_retraining, predictions)\n",
        "        print(cr)\n",
        "        # print(classification_report(poison_Class_for_test_after_retraining, predictions))\n",
        "        item['Cleaned classification report'].append([h, cr])\n",
        "        #********************* Compute Logarithmic Loss in Test***********************************\n",
        "        scoring = 'neg_log_loss'\n",
        "        results = model_selection.cross_val_score(model_for_counter_measure, poison_data_for_test_after_retraining , poison_Class_for_test_after_retraining, cv=kfold, scoring=scoring)\n",
        "        print((\"The Loss of Classification in test data: %.3f (%.3f)\") % (results.mean(), results.std()))\n",
        "        item['Cleaned logarithmic loss'].append([h, results])\n",
        "        #********************* Compute Area Under ROC Curve in Test*******************************\n",
        "        scoring = 'roc_auc'\n",
        "        results = model_selection.cross_val_score(model_for_counter_measure, poison_data_for_test_after_retraining , poison_Class_for_test_after_retraining, cv=kfold, scoring=scoring)\n",
        "        print((\"The Area Under ROC Curve in test: %.3f (%.3f)\") % (results.mean(), results.std()))\n",
        "        item['Cleaned ROC AUC'].append([h, results])\n",
        "        sns.set(font_scale=1)\n",
        "        auc_curve =  RocCurveDisplay.from_predictions(poison_Class_for_test_after_retraining, predictions, name=h)\n",
        "        item['Cleaned AUC curve'].append([h, auc_curve])\n",
        "        plt.show()\n",
        "        precision_curve = PrecisionRecallDisplay.from_predictions(poison_Class_for_test_after_retraining, predictions, name=h)\n",
        "        item['Cleaned precision curve'].append([h, precision_curve])\n",
        "        plt.show()\n",
        "        #*****************************Compute FPR and TPR in Validation**************************\n",
        "        cm=confusion_matrix(poison_Class_for_test_after_retraining, predictions)\n",
        "        print(\"Confusion matrix:\")\n",
        "        print(cm)\n",
        "        item['Cleaned confusion matrix'].append([h, cm])\n",
        "        #plot_conf_matrix(poison_Class_for_test_after_retraining, predictions)\n",
        "        plot_conf_matrix_from_matrix(cm, h)\n",
        "        plt.show()\n",
        "        TP=cm[0][0]\n",
        "        print(\"TP:\",TP)\n",
        "        FP=cm[0][1]\n",
        "        print(\"FP:\",FP)\n",
        "        FN=cm[1][0]\n",
        "        print(\"FN:\",FN)\n",
        "        TN=cm[1][1]\n",
        "        print(\"TN:\",TN)\n",
        "        FPR=FP/(FP+TN)\n",
        "        print(\"The FPR result:\", FPR)\n",
        "        \n",
        "        TPR=TP/(TP+FN)\n",
        "        print(\"The TPR result:\", TPR)\n",
        "        \n",
        "        TNR=TN/(TN+FP)\n",
        "        print(\"The TNR result:\", TNR)\n",
        "        \n",
        "        FNR=FN/(FN+TP)\n",
        "        print(\"The FNR result:\", FNR)\n",
        "        \n",
        "        AUC=1/(2*((TN/(TN+FP))+(TP/(TP+FP))))\n",
        "        print(\"The AUC result:\", AUC)\n",
        "        \n",
        "        ACC=(TP+TN)/(TP+TN+FP+FN)\n",
        "        print(\"The ACC result:\", ACC)\n",
        "        \n",
        "        #MCC=(TP*TN-FP*FN)/math.sqrt((TP+FP)*(TP+FN)*(TN+FP)*(TN+FN))\n",
        "        #print(\"The Matthews correlation coefficient result:\", MCC)\n",
        "\n",
        "        print(\"Result Related to this Numbers of features is finished:\",int(v))\n",
        "        Malware_Test = malware_test.copy(deep=True) \n",
        "        Malware_Test.columns = cols\n",
        "        selected_row = index_of_row[0:number_of_row_to_change]\n",
        "        original_selected=ranked_index[1:69]\n",
        "    print(\"End of poisoning\", item['Poisoned percent'])\n",
        "    print(\"*********************************************************************************\")\n",
        "    t11=time.time()\n",
        "print(\"Time related to applying attack in this number of Features:\", t11-t10)"
      ],
      "metadata": {
        "id": "JTUUx36BjjpP",
        "colab": {
          "base_uri": "https://localhost:8080/",
          "height": 1000
        },
        "outputId": "7b274021-1e9e-48d4-ba11-a1e2c172d05c"
      },
      "execution_count": null,
      "outputs": [
        {
          "output_type": "stream",
          "name": "stdout",
          "text": [
            "*********************************************************************************\n",
            "Poisoning 10% of benign labels as malicious\n",
            "*********************************************************************************\n",
            "Model: Random Forest Classifier\n",
            "*********************************************************************************\n",
            "*********************Selected features: 60\n",
            "******************************Result after attack *******************************\n",
            "Time related to applying attack in this number of Features: 3287.155708551407\n",
            "Number of poisoned Malware: 45446\n",
            "The accuracy of Classification in test: 0.785 (0.001)\n",
            "Classification_report by test:\n",
            "              precision    recall  f1-score   support\n",
            "\n",
            "           0       0.80      0.80      0.80    454464\n",
            "           1       0.20      0.20      0.20    111685\n",
            "\n",
            "    accuracy                           0.68    566149\n",
            "   macro avg       0.50      0.50      0.50    566149\n",
            "weighted avg       0.68      0.68      0.68    566149\n",
            "\n",
            "The Loss of Classification in test data:: -0.548 (0.003)\n",
            "The Area Under ROC Curve in test: 0.499 (0.002)\n"
          ]
        },
        {
          "output_type": "display_data",
          "data": {
            "image/png": "[encoded data removed]",
            "text/plain": [
              "<Figure size 432x288 with 1 Axes>"
            ]
          },
          "metadata": {}
        },
        {
          "output_type": "display_data",
          "data": {
            "image/png": "[encoded data removed]",
            "text/plain": [
              "<Figure size 432x288 with 1 Axes>"
            ]
          },
          "metadata": {}
        },
        {
          "output_type": "stream",
          "name": "stdout",
          "text": [
            "Confusion matrix:\n",
            "[[364522  89942]\n",
            " [ 89795  21890]]\n"
          ]
        },
        {
          "output_type": "display_data",
          "data": {
            "image/png": "[encoded data removed]",
            "text/plain": [
              "<Figure size 216x216 with 1 Axes>"
            ]
          },
          "metadata": {}
        },
        {
          "output_type": "stream",
          "name": "stdout",
          "text": [
            "TP: 364522\n",
            "FP: 89942\n",
            "FN: 89795\n",
            "TN: 21890\n",
            "The FPR result: 0.8042599613706274\n",
            "The TPR result: 0.8023516619452937\n",
            "The TNR result: 0.19574003862937264\n",
            "The FNR result: 0.1976483380547063\n",
            "The AUC result: 0.5010862680706921\n",
            "The ACC result: 0.6825270379352432\n",
            "*********************************************************************************\n",
            "*******************Result after applying GAN countermeasure**************\n",
            "Result related to Logistic Regression:\n",
            "The accuracy of Classification in train: 0.929 (0.001)\n",
            "The accuracy of Classification in validation: 0.929 (0.001)\n",
            "The accuracy of Classification in test: 0.929 (0.001)\n",
            "**************************************************************************************************\n"
          ]
        }
      ]
    },
    {
      "cell_type": "code",
      "source": [
        "# final_results_05_filename = '/content/drive/MyDrive/Dissertation/final_05_results.sav'\n",
        "# pickle.dump(data_results, open(final_results_05_filename, 'wb'))"
      ],
      "metadata": {
        "id": "ZuhC9bkwW9z0"
      },
      "execution_count": null,
      "outputs": []
    }
  ],
  "metadata": {
    "colab": {
      "collapsed_sections": [],
      "machine_shape": "hm",
      "name": "Generative Adversarial Network Defence.ipynb",
      "provenance": []
    },
    "kernelspec": {
      "display_name": "Python 3",
      "name": "python3"
    },
    "language_info": {
      "name": "python"
    }
  },
  "nbformat": 4,
  "nbformat_minor": 0
}